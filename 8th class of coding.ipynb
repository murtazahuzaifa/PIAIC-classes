{
 "cells": [
  {
   "cell_type": "markdown",
   "metadata": {},
   "source": [
    "## inheritance "
   ]
  },
  {
   "cell_type": "code",
   "execution_count": 72,
   "metadata": {},
   "outputs": [],
   "source": [
    "class car():\n",
    "    def __init__(self,make, model,year): \n",
    "        self.make = make\n",
    "        self.model = model\n",
    "        self.year = year\n",
    "        self.odometer_reading = 0\n",
    "    def get_descriptive_name(self):\n",
    "        long_name = str(self.year) + ' ' + self.make + ' ' + self.model\n",
    "        return long_name.title()\n",
    "    def read_odometer(self):\n",
    "        print(f'the car has travelled {self.odometer_reading} miles')\n",
    "    def update_odometer(self,mileage):\n",
    "        self.odometer_reading = mileage\n",
    "    def increase_odometer(self, mileage):\n",
    "        if mileage < 0:\n",
    "            self.odometer_reading += mileage\n",
    "        else:\n",
    "            print('you cannot roll back meter')\n",
    "    def getFuelTankSize(self):\n",
    "        print('Tank size is 90 liters')"
   ]
  },
  {
   "cell_type": "code",
   "execution_count": 86,
   "metadata": {},
   "outputs": [],
   "source": [
    "class ElectricCar(car):\n",
    "    def   __init__(self,make, model,year):\n",
    "        super().__init__(make, model,year)"
   ]
  },
  {
   "cell_type": "code",
   "execution_count": 23,
   "metadata": {},
   "outputs": [],
   "source": [
    "eCar = ElectricCar('toyota','corolla', 1990)"
   ]
  },
  {
   "cell_type": "code",
   "execution_count": 24,
   "metadata": {},
   "outputs": [
    {
     "name": "stdout",
     "output_type": "stream",
     "text": [
      "the car has travelled 0 miles\n"
     ]
    }
   ],
   "source": [
    "eCar.read_odometer()"
   ]
  },
  {
   "cell_type": "code",
   "execution_count": 17,
   "metadata": {},
   "outputs": [
    {
     "data": {
      "text/plain": [
       "'1990 Toyota Corolla'"
      ]
     },
     "execution_count": 17,
     "metadata": {},
     "output_type": "execute_result"
    }
   ],
   "source": [
    "eCar.get_descriptive_name()"
   ]
  },
  {
   "cell_type": "code",
   "execution_count": 25,
   "metadata": {},
   "outputs": [
    {
     "data": {
      "text/plain": [
       "'toyota'"
      ]
     },
     "execution_count": 25,
     "metadata": {},
     "output_type": "execute_result"
    }
   ],
   "source": [
    "eCar.make"
   ]
  },
  {
   "cell_type": "code",
   "execution_count": 40,
   "metadata": {},
   "outputs": [
    {
     "data": {
      "text/plain": [
       "'corolla'"
      ]
     },
     "execution_count": 40,
     "metadata": {},
     "output_type": "execute_result"
    }
   ],
   "source": [
    "eCar.model"
   ]
  },
  {
   "cell_type": "code",
   "execution_count": 76,
   "metadata": {},
   "outputs": [],
   "source": [
    "class ElectricCar(car):\n",
    "    def   __init__(self,make, model,year):\n",
    "        super().__init__(make, model,year)\n",
    "        self.batterySize = 70\n",
    "    def describeBattery(self):\n",
    "        print(f'The battery size of the car is {self.batterySize}')\n",
    "    def setBatterySize(self,battery):\n",
    "        self.batterySize = battery\n",
    "    def getBatterySize(self):\n",
    "        print(f'the battery size of the car is {self.batterySize}')\n",
    "    def getFuelTankSize(self):\n",
    "        print('electric car don\\'t have batteries')"
   ]
  },
  {
   "cell_type": "code",
   "execution_count": 98,
   "metadata": {},
   "outputs": [],
   "source": [
    "elecCar = ElectricCar('Abc ElectricCar','NewCar',2019)"
   ]
  },
  {
   "cell_type": "code",
   "execution_count": 78,
   "metadata": {},
   "outputs": [
    {
     "data": {
      "text/plain": [
       "70"
      ]
     },
     "execution_count": 78,
     "metadata": {},
     "output_type": "execute_result"
    }
   ],
   "source": [
    "elecCar.batterySize"
   ]
  },
  {
   "cell_type": "code",
   "execution_count": 79,
   "metadata": {},
   "outputs": [
    {
     "name": "stdout",
     "output_type": "stream",
     "text": [
      "The battery size of the car is 70\n"
     ]
    }
   ],
   "source": [
    "elecCar.describeBattery()"
   ]
  },
  {
   "cell_type": "code",
   "execution_count": 80,
   "metadata": {},
   "outputs": [],
   "source": [
    "elecCar.setBatterySize(90)"
   ]
  },
  {
   "cell_type": "code",
   "execution_count": 81,
   "metadata": {},
   "outputs": [
    {
     "name": "stdout",
     "output_type": "stream",
     "text": [
      "The battery size of the car is 90\n"
     ]
    }
   ],
   "source": [
    "elecCar.describeBattery()"
   ]
  },
  {
   "cell_type": "code",
   "execution_count": 82,
   "metadata": {},
   "outputs": [
    {
     "name": "stdout",
     "output_type": "stream",
     "text": [
      "the battery size of the car is 90\n"
     ]
    }
   ],
   "source": [
    "elecCar.getBatterySize()"
   ]
  },
  {
   "cell_type": "code",
   "execution_count": 84,
   "metadata": {},
   "outputs": [
    {
     "name": "stdout",
     "output_type": "stream",
     "text": [
      "electric car don't have batteries\n"
     ]
    }
   ],
   "source": [
    "elecCar.getFuelTankSize()"
   ]
  },
  {
   "cell_type": "markdown",
   "metadata": {},
   "source": [
    "## Instance as Attribute "
   ]
  },
  {
   "cell_type": "code",
   "execution_count": 129,
   "metadata": {},
   "outputs": [],
   "source": [
    "class Battery():\n",
    "    def __init__(self, manufacturer, watt, date):\n",
    "        self.manufacturer = manufacturer\n",
    "        self.watt = watt\n",
    "        self.date = date\n",
    "        self.batterySize = 100\n",
    "    def setBatterySize(self,battery):\n",
    "        self.batterySize = battery\n",
    "    def getBatterySize(self):\n",
    "        print(f'the battery size of the car is {self.batterySize}')"
   ]
  },
  {
   "cell_type": "code",
   "execution_count": 130,
   "metadata": {},
   "outputs": [],
   "source": [
    "class ElectricCar(car):\n",
    "    def   __init__(self,make, model,year):\n",
    "        super().__init__(make, model,year)\n",
    "        self.battery = Battery('Osaka',1000,2019)\n",
    "        self.motor = Motor(50, 4.0, 300)"
   ]
  },
  {
   "cell_type": "code",
   "execution_count": 99,
   "metadata": {},
   "outputs": [
    {
     "data": {
      "text/plain": [
       "1000"
      ]
     },
     "execution_count": 99,
     "metadata": {},
     "output_type": "execute_result"
    }
   ],
   "source": [
    "elecCar.battery.watt"
   ]
  },
  {
   "cell_type": "code",
   "execution_count": 100,
   "metadata": {},
   "outputs": [
    {
     "data": {
      "text/plain": [
       "2019"
      ]
     },
     "execution_count": 100,
     "metadata": {},
     "output_type": "execute_result"
    }
   ],
   "source": [
    "elecCar.battery.date"
   ]
  },
  {
   "cell_type": "code",
   "execution_count": 131,
   "metadata": {},
   "outputs": [],
   "source": [
    "class Motor():\n",
    "    def __init__(self, horsePower, torque, rpm):\n",
    "        self.horsePower = horsePower\n",
    "        self.torque = torque\n",
    "        self.rpm = rpm\n",
    "    def getRPM(self):\n",
    "        print(f'motor is running on {rpm} RPM')"
   ]
  },
  {
   "cell_type": "code",
   "execution_count": 133,
   "metadata": {},
   "outputs": [],
   "source": [
    "elecCar = ElectricCar('Abc ElectricCar','NewCar',2019)"
   ]
  },
  {
   "cell_type": "code",
   "execution_count": 134,
   "metadata": {},
   "outputs": [
    {
     "data": {
      "text/plain": [
       "50"
      ]
     },
     "execution_count": 134,
     "metadata": {},
     "output_type": "execute_result"
    }
   ],
   "source": [
    "elecCar.motor.horsePower"
   ]
  },
  {
   "cell_type": "markdown",
   "metadata": {},
   "source": [
    "## Example Restuarant "
   ]
  },
  {
   "cell_type": "code",
   "execution_count": 124,
   "metadata": {},
   "outputs": [],
   "source": [
    "class Restuarant():\n",
    "    def __init__(self,restuarantName, cuisineTye):\n",
    "        self.restuarantName = restuarantName\n",
    "        self.cuisineTye = cuisineTye\n",
    "    def describeRestuarant(self):\n",
    "        print(f'the name of restuarant is {self.restuarantName}')\n",
    "        print(f'the Cuisine type is {self.cuisineTye}')\n",
    "    def openRestuarant(self):\n",
    "        print(f'{self.restuarantName} is open today')"
   ]
  },
  {
   "cell_type": "code",
   "execution_count": 125,
   "metadata": {},
   "outputs": [],
   "source": [
    "r1 = Restuarant('ChinaTown','Chinies')"
   ]
  },
  {
   "cell_type": "code",
   "execution_count": 126,
   "metadata": {},
   "outputs": [
    {
     "name": "stdout",
     "output_type": "stream",
     "text": [
      "ChinaTown\n",
      "Chinies\n"
     ]
    }
   ],
   "source": [
    "print(r1.restuarantName)\n",
    "print(r1.cuisineTye)"
   ]
  },
  {
   "cell_type": "code",
   "execution_count": 127,
   "metadata": {},
   "outputs": [
    {
     "name": "stdout",
     "output_type": "stream",
     "text": [
      "the name of restuarant is ChinaTown\n",
      "the Cuisine type is Chinies\n",
      "ChinaTown is open today\n"
     ]
    }
   ],
   "source": [
    "r1.describeRestuarant()\n",
    "r1.openRestuarant()"
   ]
  },
  {
   "cell_type": "code",
   "execution_count": 144,
   "metadata": {},
   "outputs": [],
   "source": [
    "r2 = Restuarant(\"KFC\", 'Chinies')\n",
    "r3 = Restuarant('Dhaba','Tea')\n",
    "r4 = Restuarant('TeaPoint','Chae')"
   ]
  },
  {
   "cell_type": "code",
   "execution_count": 145,
   "metadata": {},
   "outputs": [
    {
     "name": "stdout",
     "output_type": "stream",
     "text": [
      "the name of restuarant is KFC\n",
      "the Cuisine type is Chinies\n"
     ]
    }
   ],
   "source": [
    "r2.describeRestuarant()"
   ]
  },
  {
   "cell_type": "code",
   "execution_count": 146,
   "metadata": {},
   "outputs": [
    {
     "name": "stdout",
     "output_type": "stream",
     "text": [
      "the name of restuarant is Dhaba\n",
      "the Cuisine type is Tea\n"
     ]
    }
   ],
   "source": [
    "r3.describeRestuarant()"
   ]
  },
  {
   "cell_type": "code",
   "execution_count": 147,
   "metadata": {},
   "outputs": [
    {
     "name": "stdout",
     "output_type": "stream",
     "text": [
      "the name of restuarant is TeaPoint\n",
      "the Cuisine type is Chae\n"
     ]
    }
   ],
   "source": [
    "r4.describeRestuarant()"
   ]
  },
  {
   "cell_type": "markdown",
   "metadata": {},
   "source": [
    "# Example Restuarants(9-4) "
   ]
  },
  {
   "cell_type": "code",
   "execution_count": 152,
   "metadata": {},
   "outputs": [],
   "source": [
    "class Restuarant():\n",
    "    def __init__(self,restuarantName, cuisineTye):\n",
    "        self.restuarantName = restuarantName\n",
    "        self.cuisineTye = cuisineTye\n",
    "    def describeRestuarant(self):\n",
    "        \n",
    "        print(f'the name of restuarant is {self.restuarantName}')\n",
    "        print(f'the Cuisine type is {self.cuisineTye}')\n",
    "    def openRestuarant(self):       \n",
    "        print(f'{self.restuarantName} is open today')\n",
    "    def setNumberServed(self,num):\n",
    "        self.numberServed = num\n",
    "    def getNumberServed(self):\n",
    "        print(f'{self.numberServed} customers are serverd')\n",
    "    def incrementNumberServed(self,num):\n",
    "        self.numberServed += num"
   ]
  },
  {
   "cell_type": "code",
   "execution_count": 153,
   "metadata": {},
   "outputs": [],
   "source": [
    "restuarant = Restuarant('PizzaPlus',\"Pizza\")"
   ]
  },
  {
   "cell_type": "code",
   "execution_count": 157,
   "metadata": {},
   "outputs": [],
   "source": [
    "restuarant.setNumberServed(50)"
   ]
  },
  {
   "cell_type": "code",
   "execution_count": 158,
   "metadata": {},
   "outputs": [],
   "source": [
    "restuarant.incrementNumberServed(5)"
   ]
  },
  {
   "cell_type": "code",
   "execution_count": 1,
   "metadata": {},
   "outputs": [
    {
     "ename": "NameError",
     "evalue": "name 'restuarant' is not defined",
     "output_type": "error",
     "traceback": [
      "\u001b[1;31m---------------------------------------------------------------------------\u001b[0m",
      "\u001b[1;31mNameError\u001b[0m                                 Traceback (most recent call last)",
      "\u001b[1;32m<ipython-input-1-5d75f0002513>\u001b[0m in \u001b[0;36m<module>\u001b[1;34m\u001b[0m\n\u001b[1;32m----> 1\u001b[1;33m \u001b[0mrestuarant\u001b[0m\u001b[1;33m.\u001b[0m\u001b[0mgetNumberServed\u001b[0m\u001b[1;33m(\u001b[0m\u001b[1;33m)\u001b[0m\u001b[1;33m\u001b[0m\u001b[1;33m\u001b[0m\u001b[0m\n\u001b[0m",
      "\u001b[1;31mNameError\u001b[0m: name 'restuarant' is not defined"
     ]
    }
   ],
   "source": [
    "restuarant.getNumberServed()"
   ]
  },
  {
   "cell_type": "code",
   "execution_count": null,
   "metadata": {},
   "outputs": [],
   "source": []
  },
  {
   "cell_type": "markdown",
   "metadata": {},
   "source": [
    "###  Task (9-2 , 9-5 , 9-6, 9.7, 9.8)  "
   ]
  }
 ],
 "metadata": {
  "kernelspec": {
   "display_name": "Python 3",
   "language": "python",
   "name": "python3"
  },
  "language_info": {
   "codemirror_mode": {
    "name": "ipython",
    "version": 3
   },
   "file_extension": ".py",
   "mimetype": "text/x-python",
   "name": "python",
   "nbconvert_exporter": "python",
   "pygments_lexer": "ipython3",
   "version": "3.7.3"
  }
 },
 "nbformat": 4,
 "nbformat_minor": 2
}
