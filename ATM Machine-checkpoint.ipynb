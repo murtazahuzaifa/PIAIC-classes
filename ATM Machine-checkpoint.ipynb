{
 "cells": [
  {
   "cell_type": "markdown",
   "metadata": {},
   "source": [
    "# ATM Machine"
   ]
  },
  {
   "cell_type": "markdown",
   "metadata": {},
   "source": [
    "PIAIC Python Assigment \n",
    "Created By Waqqas Siddique under the supervsion of Sir Nasir\n"
   ]
  },
  {
   "cell_type": "code",
   "execution_count": 1,
   "metadata": {},
   "outputs": [
    {
     "name": "stdout",
     "output_type": "stream",
     "text": [
      "Enter Account Number 11223344\n",
      "Enter Pin 1234\n",
      "Enter Number\n",
      "1 for WithDraw\n",
      "2 for Deposit\n",
      "3 for Balance\n",
      "3\n",
      "Your Balance is 100000\n"
     ]
    }
   ],
   "source": [
    "Acc_no=int(input(\"Enter Account Number \")) # Account No=11223344\n",
    "Pin=int(input(\"Enter Pin \")) # Pin=1234\n",
    "x=100000\n",
    "if Acc_no==11223344 and Pin==1234:\n",
    "    print(\"Enter Number\",end='\\n')\n",
    "    print(\"1 for WithDraw\",end='\\n')\n",
    "    print(\"2 for Deposit\",end='\\n')\n",
    "    print(\"3 for Balance\",end='\\n')\n",
    "    option=int(input(\"\"))\n",
    "    if option==3:\n",
    "        print(f\"Your Balance is {x}\")\n",
    "    elif option==1:\n",
    "        withdraw=int(input(\"Enter Amount\"))\n",
    "        x=x-withdraw\n",
    "        print(\"Kinldy collect Cash\")\n",
    "        print(f\"your Remaining Balance is {x}\")\n",
    "    elif option==2:\n",
    "        deposit=int(input(\"Enter Amount\"))\n",
    "        x=x+deposit\n",
    "        print(f\"your Remaining Balance is {x}\")\n",
    "    else:\n",
    "        print(\"Invalid No\")\n",
    "else:\n",
    "    print(\"Your Account Number or Pin is invalid\")"
   ]
  },
  {
   "cell_type": "code",
   "execution_count": null,
   "metadata": {},
   "outputs": [],
   "source": []
  }
 ],
 "metadata": {
  "kernelspec": {
   "display_name": "Python 3",
   "language": "python",
   "name": "python3"
  },
  "language_info": {
   "codemirror_mode": {
    "name": "ipython",
    "version": 3
   },
   "file_extension": ".py",
   "mimetype": "text/x-python",
   "name": "python",
   "nbconvert_exporter": "python",
   "pygments_lexer": "ipython3",
   "version": "3.7.3"
  }
 },
 "nbformat": 4,
 "nbformat_minor": 2
}
