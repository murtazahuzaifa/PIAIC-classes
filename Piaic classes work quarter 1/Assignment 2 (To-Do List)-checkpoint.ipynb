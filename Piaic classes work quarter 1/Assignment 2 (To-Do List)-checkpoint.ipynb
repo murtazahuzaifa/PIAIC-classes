{
 "cells": [
  {
   "cell_type": "markdown",
   "metadata": {},
   "source": [
    "# Assignment 2 To-do List"
   ]
  },
  {
   "cell_type": "code",
   "execution_count": 1,
   "metadata": {},
   "outputs": [
    {
     "name": "stdout",
     "output_type": "stream",
     "text": [
      "Enter the task you performed today: walk\n",
      "your pending tasks are:, ['assignment', 'prayer', 'quran', 'iftari', 'tv']\n",
      "Your completed task:['walk']\n"
     ]
    }
   ],
   "source": [
    "task_list=['assignment', 'prayer', 'quran', 'iftari', 'tv', 'walk']\n",
    "empty_list=[]\n",
    "user_task=input(\"Enter the task you performed today: \")\n",
    "if user_task in task_list:\n",
    "    store_task=task_list.index(user_task)\n",
    "    task_list.pop(store_task)\n",
    "    empty_list.append(user_task)\n",
    "    print(f\"your pending tasks are:, {task_list}\")\n",
    "    print(f\"Your completed task:{empty_list}\")\n",
    "else:\n",
    "    print(\"this task is not in the list\")"
   ]
  },
  {
   "cell_type": "code",
   "execution_count": null,
   "metadata": {},
   "outputs": [
    {
     "name": "stdout",
     "output_type": "stream",
     "text": [
      "list is empty\n"
     ]
    }
   ],
   "source": [
    "task_list=['assignment', 'prayer', 'quran', 'iftari', 'tv', 'walk']\n",
    "empty_list=[]\n",
    "i=len(empty_list)\n",
    "if i<1:\n",
    "    print(\"list is empty\")\n",
    "user_task=input(\"Enter the task you performed today: \")\n",
    "if user_task in task_list:\n",
    "    store_task=task_list.index(user_task)\n",
    "    task_list.pop(store_task)\n",
    "    empty_list.append(user_task)\n",
    "    print(f\"your pending tasks are:, {task_list}\")\n",
    "    print(f\"Your completed task:{empty_list}\")\n",
    "else:\n",
    "    print(\"this task is not in the list\")"
   ]
  },
  {
   "cell_type": "code",
   "execution_count": 1,
   "metadata": {},
   "outputs": [
    {
     "name": "stdout",
     "output_type": "stream",
     "text": [
      "Enter the task you performed today: sehri\n",
      "this task is not in the list\n"
     ]
    }
   ],
   "source": [
    "task_list=['assignment', 'prayer', 'quran', 'iftari', 'tv', 'walk']\n",
    "empty_list=[]\n",
    "user_task=input(\"Enter the task you performed today: \")\n",
    "if user_task in task_list:\n",
    "    store_task=task_list.index(user_task)\n",
    "    task_list.pop(store_task)\n",
    "    empty_list.append(user_task)\n",
    "    print(f\"your pending tasks are:, {task_list}\")\n",
    "    print(f\"Your completed task:{empty_list}\")\n",
    "else:\n",
    "    print(\"this task is not in the list\")"
   ]
  },
  {
   "cell_type": "code",
   "execution_count": null,
   "metadata": {},
   "outputs": [],
   "source": []
  }
 ],
 "metadata": {
  "kernelspec": {
   "display_name": "Python 3",
   "language": "python",
   "name": "python3"
  },
  "language_info": {
   "codemirror_mode": {
    "name": "ipython",
    "version": 3
   },
   "file_extension": ".py",
   "mimetype": "text/x-python",
   "name": "python",
   "nbconvert_exporter": "python",
   "pygments_lexer": "ipython3",
   "version": "3.7.3"
  }
 },
 "nbformat": 4,
 "nbformat_minor": 2
}
