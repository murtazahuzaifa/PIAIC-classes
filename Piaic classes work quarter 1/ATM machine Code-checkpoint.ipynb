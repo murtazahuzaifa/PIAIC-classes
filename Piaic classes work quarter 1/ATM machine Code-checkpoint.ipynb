{
 "cells": [
  {
   "cell_type": "code",
   "execution_count": 3,
   "metadata": {},
   "outputs": [],
   "source": [
    "acc_balance = 10000\n"
   ]
  },
  {
   "cell_type": "code",
   "execution_count": 4,
   "metadata": {},
   "outputs": [
    {
     "ename": "SyntaxError",
     "evalue": "invalid token (<ipython-input-4-1e8f4d534294>, line 6)",
     "output_type": "error",
     "traceback": [
      "\u001b[1;36m  File \u001b[1;32m\"<ipython-input-4-1e8f4d534294>\"\u001b[1;36m, line \u001b[1;32m6\u001b[0m\n\u001b[1;33m    if pin == 0053:\u001b[0m\n\u001b[1;37m                 ^\u001b[0m\n\u001b[1;31mSyntaxError\u001b[0m\u001b[1;31m:\u001b[0m invalid token\n"
     ]
    }
   ],
   "source": [
    "print('Insert Card..')\n",
    "card = input('Do you have card?.... ').lower()\n",
    "if card == 'yes' or 'i have a card':\n",
    "    print('Card Accepted')\n",
    "    pin = int(input('Type you pin number.. '))\n",
    "    if pin == 0053:\n",
    "        print('1) Balance Inquiry')\n",
    "        print('2) Cash Withdrawal')\n",
    "        print('3) Cash Diposit')\n",
    "        print('o) Exit')\n",
    "        option = int(input('Select Option: '))\n",
    "        if option == 0:\n",
    "            print('Please Take Your Card')\n",
    "        elif option == 1:\n",
    "            print(f'Your Current Balance is {acc_balance}')\n",
    "            print('Press \"b\" to go back or \"0\" to Exit')\n",
    "            option = (input('Select Option: '))\n",
    "            if option == 0:\n",
    "                print('Please Take Your Card')\n",
    "            if option == \"b\"\n",
    "            \n"
   ]
  },
  {
   "cell_type": "code",
   "execution_count": null,
   "metadata": {},
   "outputs": [],
   "source": [
    "acc_balance = 10000\n",
    "print('Insert Card..')\n",
    "card = input('Do you have card?.... ').lower()\n",
    "if card == 'yes' or 'i have a card':\n",
    "    print('Card Accepted')\n",
    "    pin = int(input('Enter you pin number.. '))\n",
    "    if pin == 0053: \n",
    "        print('Pin is correct.')\n",
    "        print(' ')\n",
    "        print('1) Balance Inquiry.')\n",
    "        print('2) Cash Withdrawal.')\n",
    "        print('3) Cash Diposit.')\n",
    "        print('o) Exit.')\n",
    "        option = int(input('Select Option: '))\n",
    "        if option == 0:\n",
    "            print('Please Take Your Card.')\n",
    "        if option == 1:\n",
    "            print(f'Your Current Balance is {acc_balance}.')\n",
    "        if option == 2:\n",
    "            withdrawal_amount = int(input('Enter your amount.. '))\n",
    "            if withdrawal_amount < acc_balance :\n",
    "                acc_balance -=  withdrawal_amount\n",
    "                print(f'{withdrawal_amount} is Withdrawal' )\n",
    "                print(f'Your remaining account balance is {acc_balance}. ')\n",
    "            if amount > acc_balance:\n",
    "                print('You have insufficient balance')\n",
    "        if option == 3:\n",
    "            diposit_amount = int(input('Enter your diposit amount.. '))\n",
    "            print(f'Congrats your new balacne is {diposit_amount + acc_balance}.')\n",
    "    else:\n",
    "        print('Invaliid Pin number.')\n",
    "        print('Please try again.')\n",
    "else:\n",
    "    print('Please Insert a Card..')"
   ]
  },
  {
   "cell_type": "code",
   "execution_count": null,
   "metadata": {},
   "outputs": [],
   "source": []
  }
 ],
 "metadata": {
  "kernelspec": {
   "display_name": "Python 3",
   "language": "python",
   "name": "python3"
  },
  "language_info": {
   "codemirror_mode": {
    "name": "ipython",
    "version": 3
   },
   "file_extension": ".py",
   "mimetype": "text/x-python",
   "name": "python",
   "nbconvert_exporter": "python",
   "pygments_lexer": "ipython3",
   "version": "3.7.3"
  }
 },
 "nbformat": 4,
 "nbformat_minor": 2
}
