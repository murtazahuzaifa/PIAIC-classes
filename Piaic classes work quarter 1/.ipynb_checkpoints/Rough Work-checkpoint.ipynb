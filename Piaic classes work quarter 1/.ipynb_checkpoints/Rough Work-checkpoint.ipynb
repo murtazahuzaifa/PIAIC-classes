{
 "cells": [
  {
   "cell_type": "markdown",
   "metadata": {},
   "source": [
    "# GUI  application with Tkinter"
   ]
  },
  {
   "cell_type": "markdown",
   "metadata": {},
   "source": [
    "### Making a GUI app with the help of Tkinter module which is already come with python  "
   ]
  },
  {
   "cell_type": "code",
   "execution_count": 2,
   "metadata": {},
   "outputs": [],
   "source": [
    "from tkinter import *"
   ]
  },
  {
   "cell_type": "code",
   "execution_count": 3,
   "metadata": {},
   "outputs": [
    {
     "ename": "TclError",
     "evalue": "cannot use geometry manager grid inside . which already has slaves managed by pack",
     "output_type": "error",
     "traceback": [
      "\u001b[1;31m---------------------------------------------------------------------------\u001b[0m",
      "\u001b[1;31mTclError\u001b[0m                                  Traceback (most recent call last)",
      "\u001b[1;32m<ipython-input-3-a521c66bf4d2>\u001b[0m in \u001b[0;36m<module>\u001b[1;34m\u001b[0m\n\u001b[0;32m     56\u001b[0m \u001b[0muserval\u001b[0m \u001b[1;33m=\u001b[0m \u001b[0mStringVar\u001b[0m\u001b[1;33m\u001b[0m\u001b[1;33m\u001b[0m\u001b[0m\n\u001b[0;32m     57\u001b[0m \u001b[0muserentry\u001b[0m \u001b[1;33m=\u001b[0m \u001b[0mEntry\u001b[0m\u001b[1;33m(\u001b[0m\u001b[0mroot\u001b[0m\u001b[1;33m,\u001b[0m\u001b[0mtextvariable\u001b[0m \u001b[1;33m=\u001b[0m \u001b[0muserval\u001b[0m\u001b[1;33m)\u001b[0m\u001b[1;33m\u001b[0m\u001b[1;33m\u001b[0m\u001b[0m\n\u001b[1;32m---> 58\u001b[1;33m \u001b[0muserentry\u001b[0m\u001b[1;33m.\u001b[0m\u001b[0mgrid\u001b[0m\u001b[1;33m(\u001b[0m\u001b[0mrow\u001b[0m\u001b[1;33m=\u001b[0m\u001b[1;36m0\u001b[0m\u001b[1;33m,\u001b[0m\u001b[0mcolumn\u001b[0m\u001b[1;33m=\u001b[0m\u001b[1;36m0\u001b[0m\u001b[1;33m)\u001b[0m\u001b[1;33m\u001b[0m\u001b[1;33m\u001b[0m\u001b[0m\n\u001b[0m\u001b[0;32m     59\u001b[0m \u001b[1;33m\u001b[0m\u001b[0m\n\u001b[0;32m     60\u001b[0m \u001b[1;31m#example of Checkbox in tkinter\u001b[0m\u001b[1;33m\u001b[0m\u001b[1;33m\u001b[0m\u001b[1;33m\u001b[0m\u001b[0m\n",
      "\u001b[1;32m~\\Anaconda3\\lib\\tkinter\\__init__.py\u001b[0m in \u001b[0;36mgrid_configure\u001b[1;34m(self, cnf, **kw)\u001b[0m\n\u001b[0;32m   2224\u001b[0m         self.tk.call(\n\u001b[0;32m   2225\u001b[0m               \u001b[1;33m(\u001b[0m\u001b[1;34m'grid'\u001b[0m\u001b[1;33m,\u001b[0m \u001b[1;34m'configure'\u001b[0m\u001b[1;33m,\u001b[0m \u001b[0mself\u001b[0m\u001b[1;33m.\u001b[0m\u001b[0m_w\u001b[0m\u001b[1;33m)\u001b[0m\u001b[1;33m\u001b[0m\u001b[1;33m\u001b[0m\u001b[0m\n\u001b[1;32m-> 2226\u001b[1;33m               + self._options(cnf, kw))\n\u001b[0m\u001b[0;32m   2227\u001b[0m     \u001b[0mgrid\u001b[0m \u001b[1;33m=\u001b[0m \u001b[0mconfigure\u001b[0m \u001b[1;33m=\u001b[0m \u001b[0mconfig\u001b[0m \u001b[1;33m=\u001b[0m \u001b[0mgrid_configure\u001b[0m\u001b[1;33m\u001b[0m\u001b[1;33m\u001b[0m\u001b[0m\n\u001b[0;32m   2228\u001b[0m     \u001b[0mbbox\u001b[0m \u001b[1;33m=\u001b[0m \u001b[0mgrid_bbox\u001b[0m \u001b[1;33m=\u001b[0m \u001b[0mMisc\u001b[0m\u001b[1;33m.\u001b[0m\u001b[0mgrid_bbox\u001b[0m\u001b[1;33m\u001b[0m\u001b[1;33m\u001b[0m\u001b[0m\n",
      "\u001b[1;31mTclError\u001b[0m: cannot use geometry manager grid inside . which already has slaves managed by pack"
     ]
    }
   ],
   "source": [
    "# first of all we make a instance of Tk() class. After that we call a mainloop function of that Tk() class to simply\n",
    "# initialize an app with empty window\n",
    "root = Tk()\n",
    "\n",
    "root.geometry(f'{16*60}x{9*60}') # this is a default size of our app window, take a string 'width x hieght'\n",
    "root.minsize(16*40,9*40) # this is a minimum size function which give a minimum range size to the app window\n",
    "root.maxsize(16*80,9*80) # this is a maximum size function which give a maximum range size to the app window\n",
    "#Text = Label(text='My First GUI') # label is created to display something on GUI window \n",
    "#Text.pack()  # to show something finally on GUI window we use pack() function \n",
    "#pic = PhotoImage(file=\"logo.png\")# to display an image on GUI app we use PhotoImage() function \n",
    "#robotic_logo = Label(image=pic) \n",
    "#robotic_logo.pack()\n",
    "\n",
    "# Important Label Options\n",
    "# text - adds the text    \n",
    "# bg - background  syntax   bd = 'color'\n",
    "# fg - foreground  syntax   fg = \"color\"\n",
    "# font - sets the font sytanx     font= 'fornt fontSize fontStyle'\n",
    "# 1. font=(\"comicsansms\", 19, \"bold\")\n",
    "# 2. font=\"comicsansms 19 bold\"\n",
    "# cursor ='clock'\n",
    "\n",
    "# padx - x padding  syntax  padx = intValue\n",
    "# pady - y padding  syntax  pady = intValue\n",
    "# relief is for border styling - SUNKEN, RAISED, GROOVE, RIDGE       syntax   relief = styleName \n",
    "# borderwidth = intvalue\n",
    "title_label = Label(text ='''\n",
    "Abdul Rashid Salim Salman Khan is an Indian \n",
    "\\nfilm actor, producer, occasional playback singer and television personality. In a film career spanning \n",
    "\\nalmost thirty years, Khan has received numerous awards, including two National Film Awards as a film \n",
    "\\nproducer, and two Filmfare Awards for acting. He has a significant following in Asia and the Indian \n",
    "\\ndiaspora worldwide, and is cited in the media as one of the most commercially successful actors of Indian \n",
    "\\ncinema. According to the Forbes 2018 list of Top-Paid 100 Celebrity Entertainers in world, Khan was \n",
    "\\nthe highest ranked Indian with 82nd rank with earnings of $37.7 million.''',\n",
    "bg =\"red\", fg=\"white\", font=\"comicsansms 19 bold italic underline\", borderwidth=0, relief=RAISED)\n",
    "\n",
    "# Important Pack options\n",
    "# anchor - syntax   anchor = 'sw'  east = e, west = w, north =s, south = n  \n",
    "# side = TOP, BOTTOM, LEFT, RIGHT\n",
    "# fill \n",
    "# padx\n",
    "# pady\n",
    "\n",
    "# title_label.pack(side=BOTTOM, anchor =\"sw\", fill=X, padx=34, pady=34)\n",
    "title_label.pack()\n",
    "\n",
    "# Frame() is function of making frame around any object\n",
    "# Example frame = Frame(root,bg='red',borderwidth=10,padx=10,height,width)\n",
    "\n",
    "#.grid(row=4,column=2,columnspan = 3) grid is like pack() but the difference is that, it display according to the rows and columns \n",
    "\n",
    "# Variabl classes in tkinter:\n",
    "# BooleanVar, DoubleVar, IntVal, StringVal\n",
    "\n",
    "#Example of inputs in tkinter\n",
    "userval = StringVar\n",
    "userentry = Entry(root,textvariable = userval)\n",
    "userentry.grid(row=0,column=0)\n",
    "\n",
    "#example of Checkbox in tkinter\n",
    "check = BooleanVar()\n",
    "box = Checkbutton(root,variable=check)\n",
    "box.grid(row=2,column=1)\n",
    "\n",
    "# to creat or draw something e use canvas()  function\n",
    "#TODO: pen = Canvas(root,width=500,height=500)\n",
    "#pen.place(x=30,y=30)\n",
    "#pen.create_rectangle(10, 10, 495, 495, fill=\"red\", dash=(6, 4))\n",
    "\n",
    "#Button() \n",
    "# this function takes text, command, command=lambda:clickbut(5)\n",
    "# command will help us in calling any function when that button will click\n",
    "# the other function we can use is .Bind() which handes event connected with that button\n",
    "\n",
    "# Menus\n",
    "'''\n",
    "mymenu = Menu(root)\n",
    "mymenu.add_command(label='file', command=myfunc)\n",
    "root.config(menu=mymenu)\n",
    "'''\n",
    "# Sub menus\n",
    "'''\n",
    "mymenu = Menu(root)\n",
    "submenu = Menu(mymenu,tearoff=0)\n",
    "submenu.add_command(label='Edit', command=myfunc)\n",
    "submenu.add_command(label='Save', command=myfunc)\n",
    "submenu.add_command(label='Save As', command=myfunc)\n",
    "root.config(menu=mymenu)\n",
    "mymenu.add_cascade(label='File',menu=submenu)\n",
    "'''\n",
    "# Multi menu\n",
    "'''\n",
    "mymenu = Menu(root)\n",
    "submenu = Menu(mymenu,tearoff=0)\n",
    "mulitmenu = Menu(submenu,tearoff=0)\n",
    "\n",
    "submenu.add_command(label='Edit', command=myfunc)\n",
    "submenu.add_command(label='Save', command=myfunc)\n",
    "submenu.add_cascade(label='system',menu=mulitmenu)\n",
    "mulitmenu.add_command(label='Info',command=myfunc)\n",
    "\n",
    "submenu.add_command(label='Save As', command=myfunc)\n",
    "root.config(menu=mymenu)\n",
    "mymenu.add_cascade(label='File',menu=submenu)\n",
    "'''\n",
    "\n",
    "\n",
    "root.mainloop()"
   ]
  },
  {
   "cell_type": "code",
   "execution_count": null,
   "metadata": {},
   "outputs": [],
   "source": [
    "alist = [0,1,2,3,4,5,6,7,8]\n",
    "#alist.remove(7)\n",
    "#print(alist)\n",
    "for i in alist:\n",
    "    if i == 3:\n",
    "        continue\n",
    "    \n",
    "    print(i)\n",
    "    "
   ]
  },
  {
   "cell_type": "code",
   "execution_count": 1,
   "metadata": {},
   "outputs": [
    {
     "name": "stdout",
     "output_type": "stream",
     "text": [
      "1.0\n"
     ]
    }
   ],
   "source": [
    "print(eval('1/1'))"
   ]
  },
  {
   "cell_type": "code",
   "execution_count": null,
   "metadata": {},
   "outputs": [],
   "source": [
    "import mechanize\n",
    "br = mechanize.Browser()\n",
    "br.set_handle_robots(False) #ignore robots.txt\n",
    "br.open('https://sonic.pk/cod/')\n",
    "print(br.forms()[0])"
   ]
  },
  {
   "cell_type": "code",
   "execution_count": 4,
   "metadata": {
    "scrolled": false
   },
   "outputs": [
    {
     "name": "stdout",
     "output_type": "stream",
     "text": [
      "<response_seek_wrapper at 0x22726683048 whose wrapped object = <closeable_response at 0x22726672898 whose fp = <_io.BufferedReader name=772>>>\n"
     ]
    }
   ],
   "source": [
    "import mechanize\n",
    "br = mechanize.Browser()\n",
    "br.set_handle_robots(False)\n",
    "response = br.open('https://sonic.pk/cod/')\n",
    "br.select_form(nr=0)\n",
    "\n",
    "br[\"email\"] = 'idealancy@gmail.com'\n",
    "br[\"password\"] = 'abcd1234'\n",
    "sign_in = br.submit()\n",
    "print(sign_in)\n"
   ]
  },
  {
   "cell_type": "code",
   "execution_count": null,
   "metadata": {
    "scrolled": true
   },
   "outputs": [],
   "source": [
    "br.open('https://sonic.pk/cod/shipment/book')\n",
    "for form in br.forms():\n",
    "    print(form)"
   ]
  },
  {
   "cell_type": "code",
   "execution_count": 34,
   "metadata": {
    "scrolled": true
   },
   "outputs": [
    {
     "name": "stdout",
     "output_type": "stream",
     "text": [
      "<HiddenControl(_token=mpdlBY6LHRcejMhWSq89rDpd1DDFDCVGNqozg7Ig) (readonly)>\n",
      "<HiddenControl(selected_service_type=) (readonly)>\n",
      "<SelectControl(pickup_address=[*2203, 4851, 0])>\n",
      "<TextareaControl(new_pickup_address=)>\n",
      "<CheckboxControl(make_default_address=[1])>\n",
      "<TextControl(new_pickup_person_of_contact=)>\n",
      "<TextControl(new_pickup_vendor=)>\n",
      "<TextControl(new_pickup_phone_number=)>\n",
      "<TextControl(new_pickup_email_address=)>\n",
      "<SelectControl(new_pickup_city=[*110, 144, 158, 172, 174, 186, 202, 213, 223, 251, 271, 283, 284, 288, 315, 318])>\n",
      "<CheckboxControl(information_display=[*on])>\n",
      "<SelectControl(consignee_info=[])>\n",
      "<SelectControl(consignee_city=[*486, 101, 102, 103, 355, 105, 104, 458, 106, 107, 108, 444, 109, 110, 403, 111, 112, 400, 401, 113, 404, 114, 115, 405, 116, 117, 419, 118, 119, 121, 122, 125, 126, 377, 127, 124, 128, 129, 130, 420, 460, 397, 399, 398, 131, 421, 136, 132, 422, 348, 383, 142, 133, 408, 134, 135, 407, 423, 137, 138, 139, 140, 141, 144, 145, 146, 396, 147, 350, 148, 149, 150, 151, 372, 152, 154, 353, 155, 156, 157, 158, 159, 160, 161, 162, 165, 167, 164, 168, 169, 354, 367, 170, 366, 352, 386, 171, 172, 487, 450, 143, 173, 174, 361, 175, 411, 177, 178, 179, 180, 359, 181, 182, 183, 425, 184, 185, 176, 187, 188, 186, 363, 426, 461, 190, 395, 191, 192, 193, 469, 194, 465, 195, 196, 197, 198, 199, 200, 201, 202, 203, 449, 204, 455, 468, 205, 189, 206, 428, 208, 209, 429, 210, 430, 212, 213, 214, 215, 216, 349, 360, 218, 219, 220, 221, 431, 470, 357, 223, 224, 225, 226, 227, 228, 229, 410, 231, 232, 233, 467, 234, 433, 414, 452, 390, 236, 434, 237, 238, 239, 247, 394, 388, 240, 241, 242, 415, 244, 243, 245, 358, 246, 249, 250, 251, 436, 252, 254, 255, 256, 384, 263, 266, 257, 259, 260, 264, 265, 267, 268, 393, 351, 269, 417, 270, 381, 443, 271, 437, 438, 406, 418, 272, 274, 373, 275, 448, 392, 277, 391, 278, 280, 282, 283, 284, 285, 286, 287, 445, 288, 466, 289, 290, 291, 457, 292, 293, 441, 462, 296, 297, 382, 298, 464, 299, 300, 301, 273, 302, 303, 305, 453, 308, 309, 310, 463, 307, 365, 385, 311, 459, 312, 402, 314, 315, 317, 318, 304, 319, 320, 321, 322, 323, 324, 364, 325, 327, 328, 329, 331, 332, 334, 335, 336, 337, 456, 338, 442, 356, 339, 340, 341, 342, 343, 387, 344])>\n",
      "<TextControl(consignee_name=)>\n",
      "<TextareaControl(consignee_address=)>\n",
      "<TextControl(consignee_phone_number_1=)>\n",
      "<TextControl(consignee_phone_number_2=)>\n",
      "<TextControl(consignee_email_address=)>\n",
      "<TextControl(order_id=)>\n",
      "<SelectControl(product_type=[3, 1, 16, 20, 2, 8, 23, 5, 12, 6, 10, 17, 11, 7, 14, 22, 15, *24, 4, 19, 9, 18, 21, 13])>\n",
      "<TextareaControl(item_description=)>\n",
      "<TextControl(item_quantity=)>\n",
      "<CheckboxControl(insurance=[on, on])>\n",
      "<TextControl(item_price=)>\n",
      "<SelectControl(replacement_product_type=[3, 1, 16, 20, 2, 8, 23, 5, 12, 6, 10, 17, 11, 7, 14, 22, 15, *24, 4, 19, 9, 18, 21, 13])>\n",
      "<TextareaControl(replacement_item_description=)>\n",
      "<TextControl(replacement_item_quantity=)>\n",
      "<IgnoreControl(<None>=<None>)>\n",
      "<SelectControl(product_type=[3, 1, 16, 20, 2, 8, 23, 5, 12, 6, 10, 17, 11, 7, 14, 22, 15, *24, 4, 19, 9, 18, 21, 13])>\n",
      "<TextareaControl(item_description=)>\n",
      "<TextControl(item_quantity=)>\n",
      "<TextControl(item_price=)>\n",
      "<IgnoreControl(<None>=<None>)>\n",
      "<CheckboxControl(package_type=[*on])>\n",
      "<TextControl(pickup_date=)>\n",
      "<TextareaControl(special_instructions=)>\n",
      "<TextControl(estimated_weight=)>\n",
      "<SelectControl(shipping_mode=[])>\n",
      "<SelectControl(same-day_timing=[*1, 2])>\n",
      "<SelectControl(charges_mode=[*4])>\n",
      "<TextControl(amount=)>\n",
      "<SelectControl(payment_mode=[*1])>\n",
      "<SubmitButtonControl(book=Book) (readonly)>\n",
      "<SubmitButtonControl(book_and_print=Book & Print) (readonly)>\n"
     ]
    }
   ],
   "source": [
    "br.open('https://sonic.pk/cod/shipment/book')\n",
    "br.select_form(nr=1)\n",
    "for control in br.form.controls:\n",
    "    print(control)\n",
    "    #print(\"type=%s, name=%s value=%s\" % (control.type, control.name, br[control.name]))"
   ]
  },
  {
   "cell_type": "code",
   "execution_count": 6,
   "metadata": {},
   "outputs": [
    {
     "name": "stdout",
     "output_type": "stream",
     "text": [
      "done\n"
     ]
    }
   ],
   "source": [
    "br.open('https://sonic.pk/cod/shipment/book')\n",
    "br.select_form(nr=1)\n",
    "br.form.find_control('selected_service_type').readonly = False\n",
    "print('done')"
   ]
  },
  {
   "cell_type": "code",
   "execution_count": 3,
   "metadata": {
    "scrolled": true
   },
   "outputs": [
    {
     "name": "stdout",
     "output_type": "stream",
     "text": [
      "<HiddenControl(_token=y7O5fDGmswg8FxtSzuN31eBUJZzd3vCPBJyNzzbi) (readonly)>\n",
      "type=hidden, name=_token value=y7O5fDGmswg8FxtSzuN31eBUJZzd3vCPBJyNzzbi\n",
      "<HiddenControl(selected_service_type=) (readonly)>\n",
      "type=hidden, name=selected_service_type value=\n",
      "<SelectControl(pickup_address=[*2203, 4851, 0])>\n",
      "type=select, name=pickup_address value=['2203']\n",
      "<TextareaControl(new_pickup_address=)>\n",
      "type=textarea, name=new_pickup_address value=\n",
      "<CheckboxControl(make_default_address=[1])>\n",
      "type=checkbox, name=make_default_address value=[]\n",
      "<TextControl(new_pickup_person_of_contact=)>\n",
      "type=text, name=new_pickup_person_of_contact value=\n",
      "<TextControl(new_pickup_vendor=)>\n",
      "type=text, name=new_pickup_vendor value=\n",
      "<TextControl(new_pickup_phone_number=)>\n",
      "type=text, name=new_pickup_phone_number value=\n",
      "<TextControl(new_pickup_email_address=)>\n",
      "type=email, name=new_pickup_email_address value=\n",
      "<SelectControl(new_pickup_city=[*110, 144, 158, 172, 174, 186, 202, 213, 223, 251, 271, 283, 284, 288, 315, 318])>\n",
      "type=select, name=new_pickup_city value=['110']\n",
      "<CheckboxControl(information_display=[*on])>\n",
      "type=checkbox, name=information_display value=['on']\n",
      "<SelectControl(consignee_info=[])>\n",
      "type=select, name=consignee_info value=[]\n",
      "<SelectControl(consignee_city=[*486, 101, 102, 103, 355, 105, 104, 458, 106, 107, 108, 444, 109, 110, 403, 111, 112, 400, 401, 113, 404, 114, 115, 405, 116, 117, 419, 118, 119, 121, 122, 125, 126, 377, 127, 124, 128, 129, 130, 420, 460, 397, 399, 398, 131, 421, 136, 132, 422, 348, 383, 142, 133, 408, 134, 135, 407, 423, 137, 138, 139, 140, 141, 144, 145, 146, 396, 147, 350, 148, 149, 150, 151, 372, 152, 154, 353, 155, 156, 157, 158, 159, 160, 161, 162, 165, 167, 164, 168, 169, 354, 367, 170, 366, 352, 386, 171, 172, 487, 450, 143, 173, 174, 361, 175, 411, 177, 178, 179, 180, 359, 181, 182, 183, 425, 184, 185, 176, 187, 188, 186, 363, 426, 461, 190, 395, 191, 192, 193, 469, 194, 465, 195, 196, 197, 198, 199, 200, 201, 202, 203, 449, 204, 455, 468, 205, 189, 206, 428, 208, 209, 429, 210, 430, 212, 213, 214, 215, 216, 349, 360, 218, 219, 220, 221, 431, 470, 357, 223, 224, 225, 226, 227, 228, 229, 410, 231, 232, 233, 467, 234, 433, 414, 452, 390, 236, 434, 237, 238, 239, 247, 394, 388, 240, 241, 242, 415, 244, 243, 245, 358, 246, 249, 250, 251, 436, 252, 254, 255, 256, 384, 263, 266, 257, 259, 260, 264, 265, 267, 268, 393, 351, 269, 417, 270, 381, 443, 271, 437, 438, 406, 418, 272, 274, 373, 275, 448, 392, 277, 391, 278, 280, 282, 283, 284, 285, 286, 287, 445, 288, 466, 289, 290, 291, 457, 292, 293, 441, 462, 296, 297, 382, 298, 464, 299, 300, 301, 273, 302, 303, 305, 453, 308, 309, 310, 463, 307, 365, 385, 311, 459, 312, 402, 314, 315, 317, 318, 304, 319, 320, 321, 322, 323, 324, 364, 325, 327, 328, 329, 331, 332, 334, 335, 336, 337, 456, 338, 442, 356, 339, 340, 341, 342, 343, 387, 344])>\n",
      "type=select, name=consignee_city value=['486']\n",
      "<TextControl(consignee_name=)>\n",
      "type=text, name=consignee_name value=\n",
      "<TextareaControl(consignee_address=)>\n",
      "type=textarea, name=consignee_address value=\n",
      "<TextControl(consignee_phone_number_1=)>\n",
      "type=text, name=consignee_phone_number_1 value=\n",
      "<TextControl(consignee_phone_number_2=)>\n",
      "type=text, name=consignee_phone_number_2 value=\n",
      "<TextControl(consignee_email_address=)>\n",
      "type=email, name=consignee_email_address value=\n",
      "<TextControl(order_id=)>\n",
      "type=text, name=order_id value=\n",
      "<SelectControl(product_type=[3, 1, 16, 20, 2, 8, 23, 5, 12, 6, 10, 17, 11, 7, 14, 22, 15, *24, 4, 19, 9, 18, 21, 13])>\n"
     ]
    },
    {
     "ename": "AmbiguityError",
     "evalue": "more than one control matching name 'product_type'",
     "output_type": "error",
     "traceback": [
      "\u001b[1;31m---------------------------------------------------------------------------\u001b[0m",
      "\u001b[1;31mAmbiguityError\u001b[0m                            Traceback (most recent call last)",
      "\u001b[1;32m<ipython-input-3-113594980218>\u001b[0m in \u001b[0;36m<module>\u001b[1;34m\u001b[0m\n\u001b[0;32m      3\u001b[0m \u001b[1;32mfor\u001b[0m \u001b[0mcontrol\u001b[0m \u001b[1;32min\u001b[0m \u001b[0mbr\u001b[0m\u001b[1;33m.\u001b[0m\u001b[0mform\u001b[0m\u001b[1;33m.\u001b[0m\u001b[0mcontrols\u001b[0m\u001b[1;33m:\u001b[0m\u001b[1;33m\u001b[0m\u001b[1;33m\u001b[0m\u001b[0m\n\u001b[0;32m      4\u001b[0m     \u001b[0mprint\u001b[0m\u001b[1;33m(\u001b[0m\u001b[0mcontrol\u001b[0m\u001b[1;33m)\u001b[0m\u001b[1;33m\u001b[0m\u001b[1;33m\u001b[0m\u001b[0m\n\u001b[1;32m----> 5\u001b[1;33m     \u001b[0mprint\u001b[0m\u001b[1;33m(\u001b[0m\u001b[1;34m\"type=%s, name=%s value=%s\"\u001b[0m \u001b[1;33m%\u001b[0m \u001b[1;33m(\u001b[0m\u001b[0mcontrol\u001b[0m\u001b[1;33m.\u001b[0m\u001b[0mtype\u001b[0m\u001b[1;33m,\u001b[0m \u001b[0mcontrol\u001b[0m\u001b[1;33m.\u001b[0m\u001b[0mname\u001b[0m\u001b[1;33m,\u001b[0m \u001b[0mbr\u001b[0m\u001b[1;33m[\u001b[0m\u001b[0mcontrol\u001b[0m\u001b[1;33m.\u001b[0m\u001b[0mname\u001b[0m\u001b[1;33m]\u001b[0m\u001b[1;33m)\u001b[0m\u001b[1;33m)\u001b[0m\u001b[1;33m\u001b[0m\u001b[1;33m\u001b[0m\u001b[0m\n\u001b[0m",
      "\u001b[1;32m~\\Anaconda3\\lib\\site-packages\\mechanize\\_mechanize.py\u001b[0m in \u001b[0;36m__getitem__\u001b[1;34m(self, name)\u001b[0m\n\u001b[0;32m    789\u001b[0m         \u001b[1;32mif\u001b[0m \u001b[0mself\u001b[0m\u001b[1;33m.\u001b[0m\u001b[0mform\u001b[0m \u001b[1;32mis\u001b[0m \u001b[1;32mNone\u001b[0m\u001b[1;33m:\u001b[0m\u001b[1;33m\u001b[0m\u001b[1;33m\u001b[0m\u001b[0m\n\u001b[0;32m    790\u001b[0m             \u001b[1;32mraise\u001b[0m \u001b[0mBrowserStateError\u001b[0m\u001b[1;33m(\u001b[0m\u001b[1;34m'No form selected'\u001b[0m\u001b[1;33m)\u001b[0m\u001b[1;33m\u001b[0m\u001b[1;33m\u001b[0m\u001b[0m\n\u001b[1;32m--> 791\u001b[1;33m         \u001b[1;32mreturn\u001b[0m \u001b[0mself\u001b[0m\u001b[1;33m.\u001b[0m\u001b[0mform\u001b[0m\u001b[1;33m[\u001b[0m\u001b[0mname\u001b[0m\u001b[1;33m]\u001b[0m\u001b[1;33m\u001b[0m\u001b[1;33m\u001b[0m\u001b[0m\n\u001b[0m\u001b[0;32m    792\u001b[0m \u001b[1;33m\u001b[0m\u001b[0m\n\u001b[0;32m    793\u001b[0m     \u001b[1;32mdef\u001b[0m \u001b[0m__setitem__\u001b[0m\u001b[1;33m(\u001b[0m\u001b[0mself\u001b[0m\u001b[1;33m,\u001b[0m \u001b[0mname\u001b[0m\u001b[1;33m,\u001b[0m \u001b[0mval\u001b[0m\u001b[1;33m)\u001b[0m\u001b[1;33m:\u001b[0m\u001b[1;33m\u001b[0m\u001b[1;33m\u001b[0m\u001b[0m\n",
      "\u001b[1;32m~\\Anaconda3\\lib\\site-packages\\mechanize\\_form_controls.py\u001b[0m in \u001b[0;36m__getitem__\u001b[1;34m(self, name)\u001b[0m\n\u001b[0;32m   1948\u001b[0m \u001b[1;33m\u001b[0m\u001b[0m\n\u001b[0;32m   1949\u001b[0m     \u001b[1;32mdef\u001b[0m \u001b[0m__getitem__\u001b[0m\u001b[1;33m(\u001b[0m\u001b[0mself\u001b[0m\u001b[1;33m,\u001b[0m \u001b[0mname\u001b[0m\u001b[1;33m)\u001b[0m\u001b[1;33m:\u001b[0m\u001b[1;33m\u001b[0m\u001b[1;33m\u001b[0m\u001b[0m\n\u001b[1;32m-> 1950\u001b[1;33m         \u001b[1;32mreturn\u001b[0m \u001b[0mself\u001b[0m\u001b[1;33m.\u001b[0m\u001b[0mfind_control\u001b[0m\u001b[1;33m(\u001b[0m\u001b[0mname\u001b[0m\u001b[1;33m)\u001b[0m\u001b[1;33m.\u001b[0m\u001b[0mvalue\u001b[0m\u001b[1;33m\u001b[0m\u001b[1;33m\u001b[0m\u001b[0m\n\u001b[0m\u001b[0;32m   1951\u001b[0m \u001b[1;33m\u001b[0m\u001b[0m\n\u001b[0;32m   1952\u001b[0m     \u001b[1;32mdef\u001b[0m \u001b[0m__contains__\u001b[0m\u001b[1;33m(\u001b[0m\u001b[0mself\u001b[0m\u001b[1;33m,\u001b[0m \u001b[0mname\u001b[0m\u001b[1;33m)\u001b[0m\u001b[1;33m:\u001b[0m\u001b[1;33m\u001b[0m\u001b[1;33m\u001b[0m\u001b[0m\n",
      "\u001b[1;32m~\\Anaconda3\\lib\\site-packages\\mechanize\\_form_controls.py\u001b[0m in \u001b[0;36mfind_control\u001b[1;34m(self, name, type, kind, id, predicate, nr, label)\u001b[0m\n\u001b[0;32m   2346\u001b[0m             raise ValueError(\n\u001b[0;32m   2347\u001b[0m                 \"at least one argument must be supplied to specify control\")\n\u001b[1;32m-> 2348\u001b[1;33m         \u001b[1;32mreturn\u001b[0m \u001b[0mself\u001b[0m\u001b[1;33m.\u001b[0m\u001b[0m_find_control\u001b[0m\u001b[1;33m(\u001b[0m\u001b[0mname\u001b[0m\u001b[1;33m,\u001b[0m \u001b[0mtype\u001b[0m\u001b[1;33m,\u001b[0m \u001b[0mkind\u001b[0m\u001b[1;33m,\u001b[0m \u001b[0mid\u001b[0m\u001b[1;33m,\u001b[0m \u001b[0mlabel\u001b[0m\u001b[1;33m,\u001b[0m \u001b[0mpredicate\u001b[0m\u001b[1;33m,\u001b[0m \u001b[0mnr\u001b[0m\u001b[1;33m)\u001b[0m\u001b[1;33m\u001b[0m\u001b[1;33m\u001b[0m\u001b[0m\n\u001b[0m\u001b[0;32m   2349\u001b[0m \u001b[1;33m\u001b[0m\u001b[0m\n\u001b[0;32m   2350\u001b[0m \u001b[1;31m# ---------------------------------------------------\u001b[0m\u001b[1;33m\u001b[0m\u001b[1;33m\u001b[0m\u001b[1;33m\u001b[0m\u001b[0m\n",
      "\u001b[1;32m~\\Anaconda3\\lib\\site-packages\\mechanize\\_form_controls.py\u001b[0m in \u001b[0;36m_find_control\u001b[1;34m(self, name, type, kind, id, label, predicate, nr)\u001b[0m\n\u001b[0;32m   2437\u001b[0m         \u001b[1;32mif\u001b[0m \u001b[0mambiguous\u001b[0m\u001b[1;33m:\u001b[0m\u001b[1;33m\u001b[0m\u001b[1;33m\u001b[0m\u001b[0m\n\u001b[0;32m   2438\u001b[0m             raise AmbiguityError(\"more than one control matching \" +\n\u001b[1;32m-> 2439\u001b[1;33m                                  description)\n\u001b[0m\u001b[0;32m   2440\u001b[0m         \u001b[1;32melif\u001b[0m \u001b[1;32mnot\u001b[0m \u001b[0mfound\u001b[0m\u001b[1;33m:\u001b[0m\u001b[1;33m\u001b[0m\u001b[1;33m\u001b[0m\u001b[0m\n\u001b[0;32m   2441\u001b[0m             \u001b[1;32mraise\u001b[0m \u001b[0mControlNotFoundError\u001b[0m\u001b[1;33m(\u001b[0m\u001b[1;34m\"no control matching \"\u001b[0m \u001b[1;33m+\u001b[0m \u001b[0mdescription\u001b[0m\u001b[1;33m)\u001b[0m\u001b[1;33m\u001b[0m\u001b[1;33m\u001b[0m\u001b[0m\n",
      "\u001b[1;31mAmbiguityError\u001b[0m: more than one control matching name 'product_type'"
     ]
    }
   ],
   "source": [
    "br.open('https://sonic.pk/cod/shipment/book')\n",
    "br.select_form(nr=1)\n",
    "for control in br.form.controls:\n",
    "    print(control)\n",
    "    print(\"type=%s, name=%s value=%s\" % (control.type, control.name, br[control.name]))"
   ]
  },
  {
   "cell_type": "code",
   "execution_count": 3,
   "metadata": {
    "scrolled": true
   },
   "outputs": [
    {
     "ename": "ControlNotFoundError",
     "evalue": "no control matching name 'product_type'",
     "output_type": "error",
     "traceback": [
      "\u001b[1;31m---------------------------------------------------------------------------\u001b[0m",
      "\u001b[1;31mControlNotFoundError\u001b[0m                      Traceback (most recent call last)",
      "\u001b[1;32m<ipython-input-3-1e7676c88681>\u001b[0m in \u001b[0;36m<module>\u001b[1;34m\u001b[0m\n\u001b[0;32m      2\u001b[0m \u001b[0mbr\u001b[0m\u001b[1;33m.\u001b[0m\u001b[0mselect_form\u001b[0m\u001b[1;33m(\u001b[0m\u001b[0mnr\u001b[0m\u001b[1;33m=\u001b[0m\u001b[1;36m2\u001b[0m\u001b[1;33m)\u001b[0m\u001b[1;33m\u001b[0m\u001b[1;33m\u001b[0m\u001b[0m\n\u001b[0;32m      3\u001b[0m \u001b[1;33m\u001b[0m\u001b[0m\n\u001b[1;32m----> 4\u001b[1;33m \u001b[0mctl\u001b[0m \u001b[1;33m=\u001b[0m \u001b[0mbr\u001b[0m\u001b[1;33m.\u001b[0m\u001b[0mform\u001b[0m\u001b[1;33m.\u001b[0m\u001b[0mfind_control\u001b[0m\u001b[1;33m(\u001b[0m\u001b[1;34m'product_type'\u001b[0m\u001b[1;33m)\u001b[0m\u001b[1;33m\u001b[0m\u001b[1;33m\u001b[0m\u001b[0m\n\u001b[0m\u001b[0;32m      5\u001b[0m \u001b[0mbr\u001b[0m\u001b[1;33m.\u001b[0m\u001b[0mform\u001b[0m\u001b[1;33m.\u001b[0m\u001b[0mcontrols\u001b[0m\u001b[1;33m.\u001b[0m\u001b[0mremove\u001b[0m\u001b[1;33m(\u001b[0m\u001b[0mctl\u001b[0m\u001b[1;33m)\u001b[0m\u001b[1;33m\u001b[0m\u001b[1;33m\u001b[0m\u001b[0m\n\u001b[0;32m      6\u001b[0m \u001b[0mctl\u001b[0m \u001b[1;33m=\u001b[0m \u001b[0mbr\u001b[0m\u001b[1;33m.\u001b[0m\u001b[0mform\u001b[0m\u001b[1;33m.\u001b[0m\u001b[0mfind_control\u001b[0m\u001b[1;33m(\u001b[0m\u001b[1;34m'item_description'\u001b[0m\u001b[1;33m)\u001b[0m\u001b[1;33m\u001b[0m\u001b[1;33m\u001b[0m\u001b[0m\n",
      "\u001b[1;32m~\\Anaconda3\\lib\\site-packages\\mechanize\\_form_controls.py\u001b[0m in \u001b[0;36mfind_control\u001b[1;34m(self, name, type, kind, id, predicate, nr, label)\u001b[0m\n\u001b[0;32m   2346\u001b[0m             raise ValueError(\n\u001b[0;32m   2347\u001b[0m                 \"at least one argument must be supplied to specify control\")\n\u001b[1;32m-> 2348\u001b[1;33m         \u001b[1;32mreturn\u001b[0m \u001b[0mself\u001b[0m\u001b[1;33m.\u001b[0m\u001b[0m_find_control\u001b[0m\u001b[1;33m(\u001b[0m\u001b[0mname\u001b[0m\u001b[1;33m,\u001b[0m \u001b[0mtype\u001b[0m\u001b[1;33m,\u001b[0m \u001b[0mkind\u001b[0m\u001b[1;33m,\u001b[0m \u001b[0mid\u001b[0m\u001b[1;33m,\u001b[0m \u001b[0mlabel\u001b[0m\u001b[1;33m,\u001b[0m \u001b[0mpredicate\u001b[0m\u001b[1;33m,\u001b[0m \u001b[0mnr\u001b[0m\u001b[1;33m)\u001b[0m\u001b[1;33m\u001b[0m\u001b[1;33m\u001b[0m\u001b[0m\n\u001b[0m\u001b[0;32m   2349\u001b[0m \u001b[1;33m\u001b[0m\u001b[0m\n\u001b[0;32m   2350\u001b[0m \u001b[1;31m# ---------------------------------------------------\u001b[0m\u001b[1;33m\u001b[0m\u001b[1;33m\u001b[0m\u001b[1;33m\u001b[0m\u001b[0m\n",
      "\u001b[1;32m~\\Anaconda3\\lib\\site-packages\\mechanize\\_form_controls.py\u001b[0m in \u001b[0;36m_find_control\u001b[1;34m(self, name, type, kind, id, label, predicate, nr)\u001b[0m\n\u001b[0;32m   2439\u001b[0m                                  description)\n\u001b[0;32m   2440\u001b[0m         \u001b[1;32melif\u001b[0m \u001b[1;32mnot\u001b[0m \u001b[0mfound\u001b[0m\u001b[1;33m:\u001b[0m\u001b[1;33m\u001b[0m\u001b[1;33m\u001b[0m\u001b[0m\n\u001b[1;32m-> 2441\u001b[1;33m             \u001b[1;32mraise\u001b[0m \u001b[0mControlNotFoundError\u001b[0m\u001b[1;33m(\u001b[0m\u001b[1;34m\"no control matching \"\u001b[0m \u001b[1;33m+\u001b[0m \u001b[0mdescription\u001b[0m\u001b[1;33m)\u001b[0m\u001b[1;33m\u001b[0m\u001b[1;33m\u001b[0m\u001b[0m\n\u001b[0m\u001b[0;32m   2442\u001b[0m         \u001b[1;32massert\u001b[0m \u001b[1;32mFalse\u001b[0m\u001b[1;33m\u001b[0m\u001b[1;33m\u001b[0m\u001b[0m\n\u001b[0;32m   2443\u001b[0m \u001b[1;33m\u001b[0m\u001b[0m\n",
      "\u001b[1;31mControlNotFoundError\u001b[0m: no control matching name 'product_type'"
     ]
    }
   ],
   "source": [
    "br.open('https://sonic.pk/cod/shipment/book')\n",
    "br.select_form(nr=2)\n",
    "\n",
    "ctl = br.form.find_control('product_type')\n",
    "br.form.controls.remove(ctl)\n",
    "ctl = br.form.find_control('item_description')\n",
    "br.form.controls.remove(ctl)\n",
    "ctl = br.form.find_control('item_quantity')\n",
    "br.form.controls.remove(ctl)\n",
    "\n",
    "for control in br.form.controls:\n",
    "    print(control)"
   ]
  },
  {
   "cell_type": "code",
   "execution_count": 49,
   "metadata": {
    "scrolled": true
   },
   "outputs": [
    {
     "name": "stdout",
     "output_type": "stream",
     "text": [
      "details done\n"
     ]
    },
    {
     "ename": "AttributeError",
     "evalue": "'list' object has no attribute 'encode'",
     "output_type": "error",
     "traceback": [
      "\u001b[1;31m---------------------------------------------------------------------------\u001b[0m",
      "\u001b[1;31mAttributeError\u001b[0m                            Traceback (most recent call last)",
      "\u001b[1;32m<ipython-input-49-e6a8f020f1de>\u001b[0m in \u001b[0;36m<module>\u001b[1;34m\u001b[0m\n\u001b[0;32m     41\u001b[0m \u001b[0mbr\u001b[0m\u001b[1;33m[\u001b[0m\u001b[1;34m'payment_mode'\u001b[0m\u001b[1;33m]\u001b[0m \u001b[1;33m=\u001b[0m \u001b[1;33m[\u001b[0m\u001b[1;34m'1'\u001b[0m\u001b[1;33m]\u001b[0m\u001b[1;33m\u001b[0m\u001b[1;33m\u001b[0m\u001b[0m\n\u001b[0;32m     42\u001b[0m \u001b[1;31m#br.form.new_control('SubmitButton', 'book', {'value': 'Book'})\u001b[0m\u001b[1;33m\u001b[0m\u001b[1;33m\u001b[0m\u001b[1;33m\u001b[0m\u001b[0m\n\u001b[1;32m---> 43\u001b[1;33m \u001b[0mform_submit\u001b[0m \u001b[1;33m=\u001b[0m \u001b[0mbr\u001b[0m\u001b[1;33m.\u001b[0m\u001b[0msubmit\u001b[0m\u001b[1;33m(\u001b[0m\u001b[1;33m)\u001b[0m\u001b[1;33m\u001b[0m\u001b[1;33m\u001b[0m\u001b[0m\n\u001b[0m\u001b[0;32m     44\u001b[0m \u001b[1;31m#form_submit = br.submit('book')\u001b[0m\u001b[1;33m\u001b[0m\u001b[1;33m\u001b[0m\u001b[1;33m\u001b[0m\u001b[0m\n\u001b[0;32m     45\u001b[0m \u001b[1;31m#print(form_submit)\u001b[0m\u001b[1;33m\u001b[0m\u001b[1;33m\u001b[0m\u001b[1;33m\u001b[0m\u001b[0m\n",
      "\u001b[1;32m~\\Anaconda3\\lib\\site-packages\\mechanize\\_mechanize.py\u001b[0m in \u001b[0;36msubmit\u001b[1;34m(self, *args, **kwds)\u001b[0m\n\u001b[0;32m    682\u001b[0m         \u001b[0mReturn\u001b[0m \u001b[0mvalue\u001b[0m \u001b[1;32mis\u001b[0m \u001b[0msame\u001b[0m \u001b[1;32mas\u001b[0m \u001b[1;32mfor\u001b[0m \u001b[1;33m:\u001b[0m\u001b[0mmeth\u001b[0m\u001b[1;33m:\u001b[0m\u001b[0;31m`\u001b[0m\u001b[0mopen\u001b[0m\u001b[1;33m(\u001b[0m\u001b[1;33m)\u001b[0m\u001b[0;31m`\u001b[0m\u001b[1;33m.\u001b[0m\u001b[1;33m\u001b[0m\u001b[1;33m\u001b[0m\u001b[0m\n\u001b[0;32m    683\u001b[0m         \"\"\"\n\u001b[1;32m--> 684\u001b[1;33m         \u001b[1;32mreturn\u001b[0m \u001b[0mself\u001b[0m\u001b[1;33m.\u001b[0m\u001b[0mopen\u001b[0m\u001b[1;33m(\u001b[0m\u001b[0mself\u001b[0m\u001b[1;33m.\u001b[0m\u001b[0mclick\u001b[0m\u001b[1;33m(\u001b[0m\u001b[1;33m*\u001b[0m\u001b[0margs\u001b[0m\u001b[1;33m,\u001b[0m \u001b[1;33m**\u001b[0m\u001b[0mkwds\u001b[0m\u001b[1;33m)\u001b[0m\u001b[1;33m)\u001b[0m\u001b[1;33m\u001b[0m\u001b[1;33m\u001b[0m\u001b[0m\n\u001b[0m\u001b[0;32m    685\u001b[0m \u001b[1;33m\u001b[0m\u001b[0m\n\u001b[0;32m    686\u001b[0m     \u001b[1;32mdef\u001b[0m \u001b[0mclick_link\u001b[0m\u001b[1;33m(\u001b[0m\u001b[0mself\u001b[0m\u001b[1;33m,\u001b[0m \u001b[0mlink\u001b[0m\u001b[1;33m=\u001b[0m\u001b[1;32mNone\u001b[0m\u001b[1;33m,\u001b[0m \u001b[1;33m**\u001b[0m\u001b[0mkwds\u001b[0m\u001b[1;33m)\u001b[0m\u001b[1;33m:\u001b[0m\u001b[1;33m\u001b[0m\u001b[1;33m\u001b[0m\u001b[0m\n",
      "\u001b[1;32m~\\Anaconda3\\lib\\site-packages\\mechanize\\_mechanize.py\u001b[0m in \u001b[0;36mclick\u001b[1;34m(self, *args, **kwds)\u001b[0m\n\u001b[0;32m    672\u001b[0m         \u001b[1;32mif\u001b[0m \u001b[1;32mnot\u001b[0m \u001b[0mself\u001b[0m\u001b[1;33m.\u001b[0m\u001b[0mviewing_html\u001b[0m\u001b[1;33m(\u001b[0m\u001b[1;33m)\u001b[0m\u001b[1;33m:\u001b[0m\u001b[1;33m\u001b[0m\u001b[1;33m\u001b[0m\u001b[0m\n\u001b[0;32m    673\u001b[0m             \u001b[1;32mraise\u001b[0m \u001b[0mBrowserStateError\u001b[0m\u001b[1;33m(\u001b[0m\u001b[1;34m\"not viewing HTML\"\u001b[0m\u001b[1;33m)\u001b[0m\u001b[1;33m\u001b[0m\u001b[1;33m\u001b[0m\u001b[0m\n\u001b[1;32m--> 674\u001b[1;33m         \u001b[0mrequest\u001b[0m \u001b[1;33m=\u001b[0m \u001b[0mself\u001b[0m\u001b[1;33m.\u001b[0m\u001b[0mform\u001b[0m\u001b[1;33m.\u001b[0m\u001b[0mclick\u001b[0m\u001b[1;33m(\u001b[0m\u001b[1;33m*\u001b[0m\u001b[0margs\u001b[0m\u001b[1;33m,\u001b[0m \u001b[1;33m**\u001b[0m\u001b[0mkwds\u001b[0m\u001b[1;33m)\u001b[0m\u001b[1;33m\u001b[0m\u001b[1;33m\u001b[0m\u001b[0m\n\u001b[0m\u001b[0;32m    675\u001b[0m         \u001b[1;32mreturn\u001b[0m \u001b[0mself\u001b[0m\u001b[1;33m.\u001b[0m\u001b[0m_add_referer_header\u001b[0m\u001b[1;33m(\u001b[0m\u001b[0mrequest\u001b[0m\u001b[1;33m)\u001b[0m\u001b[1;33m\u001b[0m\u001b[1;33m\u001b[0m\u001b[0m\n\u001b[0;32m    676\u001b[0m \u001b[1;33m\u001b[0m\u001b[0m\n",
      "\u001b[1;32m~\\Anaconda3\\lib\\site-packages\\mechanize\\_form_controls.py\u001b[0m in \u001b[0;36mclick\u001b[1;34m(self, name, type, id, nr, coord, request_class, label)\u001b[0m\n\u001b[0;32m   2253\u001b[0m         \"\"\"\n\u001b[0;32m   2254\u001b[0m         return self._click(name, type, id, label, nr, coord, \"request\",\n\u001b[1;32m-> 2255\u001b[1;33m                            self._request_class)\n\u001b[0m\u001b[0;32m   2256\u001b[0m \u001b[1;33m\u001b[0m\u001b[0m\n\u001b[0;32m   2257\u001b[0m     def click_request_data(self,\n",
      "\u001b[1;32m~\\Anaconda3\\lib\\site-packages\\mechanize\\_form_controls.py\u001b[0m in \u001b[0;36m_click\u001b[1;34m(self, name, type, id, label, nr, coord, return_type, request_class)\u001b[0m\n\u001b[0;32m   2471\u001b[0m                     self.enctype = control.attrs.get(\n\u001b[0;32m   2472\u001b[0m                         'formenctype') or self.enctype\n\u001b[1;32m-> 2473\u001b[1;33m                 \u001b[1;32mreturn\u001b[0m \u001b[0mcontrol\u001b[0m\u001b[1;33m.\u001b[0m\u001b[0m_click\u001b[0m\u001b[1;33m(\u001b[0m\u001b[0mself\u001b[0m\u001b[1;33m,\u001b[0m \u001b[0mcoord\u001b[0m\u001b[1;33m,\u001b[0m \u001b[0mreturn_type\u001b[0m\u001b[1;33m,\u001b[0m \u001b[0mrequest_class\u001b[0m\u001b[1;33m)\u001b[0m\u001b[1;33m\u001b[0m\u001b[1;33m\u001b[0m\u001b[0m\n\u001b[0m\u001b[0;32m   2474\u001b[0m             \u001b[1;32mfinally\u001b[0m\u001b[1;33m:\u001b[0m\u001b[1;33m\u001b[0m\u001b[1;33m\u001b[0m\u001b[0m\n\u001b[0;32m   2475\u001b[0m                 \u001b[0mself\u001b[0m\u001b[1;33m.\u001b[0m\u001b[0mmethod\u001b[0m\u001b[1;33m,\u001b[0m \u001b[0mself\u001b[0m\u001b[1;33m.\u001b[0m\u001b[0maction\u001b[0m\u001b[1;33m,\u001b[0m \u001b[0mself\u001b[0m\u001b[1;33m.\u001b[0m\u001b[0menctype\u001b[0m \u001b[1;33m=\u001b[0m \u001b[0moriginals\u001b[0m\u001b[1;33m\u001b[0m\u001b[1;33m\u001b[0m\u001b[0m\n",
      "\u001b[1;32m~\\Anaconda3\\lib\\site-packages\\mechanize\\_form_controls.py\u001b[0m in \u001b[0;36m_click\u001b[1;34m(self, form, coord, return_type, request_class)\u001b[0m\n\u001b[0;32m   1514\u001b[0m     \u001b[1;32mdef\u001b[0m \u001b[0m_click\u001b[0m\u001b[1;33m(\u001b[0m\u001b[0mself\u001b[0m\u001b[1;33m,\u001b[0m \u001b[0mform\u001b[0m\u001b[1;33m,\u001b[0m \u001b[0mcoord\u001b[0m\u001b[1;33m,\u001b[0m \u001b[0mreturn_type\u001b[0m\u001b[1;33m,\u001b[0m \u001b[0mrequest_class\u001b[0m\u001b[1;33m=\u001b[0m\u001b[0m_request\u001b[0m\u001b[1;33m.\u001b[0m\u001b[0mRequest\u001b[0m\u001b[1;33m)\u001b[0m\u001b[1;33m:\u001b[0m\u001b[1;33m\u001b[0m\u001b[1;33m\u001b[0m\u001b[0m\n\u001b[0;32m   1515\u001b[0m         \u001b[0mself\u001b[0m\u001b[1;33m.\u001b[0m\u001b[0m_clicked\u001b[0m \u001b[1;33m=\u001b[0m \u001b[0mcoord\u001b[0m\u001b[1;33m\u001b[0m\u001b[1;33m\u001b[0m\u001b[0m\n\u001b[1;32m-> 1516\u001b[1;33m         \u001b[0mr\u001b[0m \u001b[1;33m=\u001b[0m \u001b[0mform\u001b[0m\u001b[1;33m.\u001b[0m\u001b[0m_switch_click\u001b[0m\u001b[1;33m(\u001b[0m\u001b[0mreturn_type\u001b[0m\u001b[1;33m,\u001b[0m \u001b[0mrequest_class\u001b[0m\u001b[1;33m)\u001b[0m\u001b[1;33m\u001b[0m\u001b[1;33m\u001b[0m\u001b[0m\n\u001b[0m\u001b[0;32m   1517\u001b[0m         \u001b[0mself\u001b[0m\u001b[1;33m.\u001b[0m\u001b[0m_clicked\u001b[0m \u001b[1;33m=\u001b[0m \u001b[1;32mFalse\u001b[0m\u001b[1;33m\u001b[0m\u001b[1;33m\u001b[0m\u001b[0m\n\u001b[0;32m   1518\u001b[0m         \u001b[1;32mreturn\u001b[0m \u001b[0mr\u001b[0m\u001b[1;33m\u001b[0m\u001b[1;33m\u001b[0m\u001b[0m\n",
      "\u001b[1;32m~\\Anaconda3\\lib\\site-packages\\mechanize\\_form_controls.py\u001b[0m in \u001b[0;36m_switch_click\u001b[1;34m(self, return_type, request_class)\u001b[0m\n\u001b[0;32m   2552\u001b[0m             \u001b[1;32mreturn\u001b[0m \u001b[0mself\u001b[0m\u001b[1;33m.\u001b[0m\u001b[0m_request_data\u001b[0m\u001b[1;33m(\u001b[0m\u001b[1;33m)\u001b[0m\u001b[1;33m\u001b[0m\u001b[1;33m\u001b[0m\u001b[0m\n\u001b[0;32m   2553\u001b[0m         \u001b[1;32melse\u001b[0m\u001b[1;33m:\u001b[0m\u001b[1;33m\u001b[0m\u001b[1;33m\u001b[0m\u001b[0m\n\u001b[1;32m-> 2554\u001b[1;33m             \u001b[0mreq_data\u001b[0m \u001b[1;33m=\u001b[0m \u001b[0mself\u001b[0m\u001b[1;33m.\u001b[0m\u001b[0m_request_data\u001b[0m\u001b[1;33m(\u001b[0m\u001b[1;33m)\u001b[0m\u001b[1;33m\u001b[0m\u001b[1;33m\u001b[0m\u001b[0m\n\u001b[0m\u001b[0;32m   2555\u001b[0m             \u001b[0mreq\u001b[0m \u001b[1;33m=\u001b[0m \u001b[0mrequest_class\u001b[0m\u001b[1;33m(\u001b[0m\u001b[0mreq_data\u001b[0m\u001b[1;33m[\u001b[0m\u001b[1;36m0\u001b[0m\u001b[1;33m]\u001b[0m\u001b[1;33m,\u001b[0m \u001b[0mreq_data\u001b[0m\u001b[1;33m[\u001b[0m\u001b[1;36m1\u001b[0m\u001b[1;33m]\u001b[0m\u001b[1;33m)\u001b[0m\u001b[1;33m\u001b[0m\u001b[1;33m\u001b[0m\u001b[0m\n\u001b[0;32m   2556\u001b[0m             \u001b[1;32mfor\u001b[0m \u001b[0mkey\u001b[0m\u001b[1;33m,\u001b[0m \u001b[0mval\u001b[0m \u001b[1;32min\u001b[0m \u001b[0mreq_data\u001b[0m\u001b[1;33m[\u001b[0m\u001b[1;36m2\u001b[0m\u001b[1;33m]\u001b[0m\u001b[1;33m:\u001b[0m\u001b[1;33m\u001b[0m\u001b[1;33m\u001b[0m\u001b[0m\n",
      "\u001b[1;32m~\\Anaconda3\\lib\\site-packages\\mechanize\\_form_controls.py\u001b[0m in \u001b[0;36m_request_data\u001b[1;34m(self)\u001b[0m\n\u001b[0;32m   2525\u001b[0m             \u001b[0muri\u001b[0m \u001b[1;33m=\u001b[0m \u001b[0mself\u001b[0m\u001b[1;33m.\u001b[0m\u001b[0m_urlunparse\u001b[0m\u001b[1;33m(\u001b[0m\u001b[0mparts\u001b[0m\u001b[1;33m)\u001b[0m\u001b[1;33m\u001b[0m\u001b[1;33m\u001b[0m\u001b[0m\n\u001b[0;32m   2526\u001b[0m             \u001b[1;32mif\u001b[0m \u001b[0mself\u001b[0m\u001b[1;33m.\u001b[0m\u001b[0menctype\u001b[0m \u001b[1;33m==\u001b[0m \u001b[1;34m\"application/x-www-form-urlencoded\"\u001b[0m\u001b[1;33m:\u001b[0m\u001b[1;33m\u001b[0m\u001b[1;33m\u001b[0m\u001b[0m\n\u001b[1;32m-> 2527\u001b[1;33m                 return (uri, encode_query(),\n\u001b[0m\u001b[0;32m   2528\u001b[0m                         [(\"Content-Type\", self.enctype)])\n\u001b[0;32m   2529\u001b[0m             \u001b[1;32melif\u001b[0m \u001b[0mself\u001b[0m\u001b[1;33m.\u001b[0m\u001b[0menctype\u001b[0m \u001b[1;33m==\u001b[0m \u001b[1;34m\"multipart/form-data\"\u001b[0m\u001b[1;33m:\u001b[0m\u001b[1;33m\u001b[0m\u001b[1;33m\u001b[0m\u001b[0m\n",
      "\u001b[1;32m~\\Anaconda3\\lib\\site-packages\\mechanize\\_form_controls.py\u001b[0m in \u001b[0;36mencode_query\u001b[1;34m()\u001b[0m\n\u001b[0;32m   2511\u001b[0m \u001b[1;33m\u001b[0m\u001b[0m\n\u001b[0;32m   2512\u001b[0m         \u001b[1;32mdef\u001b[0m \u001b[0mencode_query\u001b[0m\u001b[1;33m(\u001b[0m\u001b[1;33m)\u001b[0m\u001b[1;33m:\u001b[0m\u001b[1;33m\u001b[0m\u001b[1;33m\u001b[0m\u001b[0m\n\u001b[1;32m-> 2513\u001b[1;33m             \u001b[0mp\u001b[0m \u001b[1;33m=\u001b[0m \u001b[1;33m[\u001b[0m\u001b[1;33m(\u001b[0m\u001b[0mas_utf8\u001b[0m\u001b[1;33m(\u001b[0m\u001b[0mk\u001b[0m\u001b[1;33m)\u001b[0m\u001b[1;33m,\u001b[0m \u001b[0mas_utf8\u001b[0m\u001b[1;33m(\u001b[0m\u001b[0mv\u001b[0m\u001b[1;33m)\u001b[0m\u001b[1;33m)\u001b[0m \u001b[1;32mfor\u001b[0m \u001b[0mk\u001b[0m\u001b[1;33m,\u001b[0m \u001b[0mv\u001b[0m \u001b[1;32min\u001b[0m \u001b[0mself\u001b[0m\u001b[1;33m.\u001b[0m\u001b[0m_pairs\u001b[0m\u001b[1;33m(\u001b[0m\u001b[1;33m)\u001b[0m\u001b[1;33m]\u001b[0m\u001b[1;33m\u001b[0m\u001b[1;33m\u001b[0m\u001b[0m\n\u001b[0m\u001b[0;32m   2514\u001b[0m             \u001b[1;32mreturn\u001b[0m \u001b[0murlencode\u001b[0m\u001b[1;33m(\u001b[0m\u001b[0mp\u001b[0m\u001b[1;33m)\u001b[0m\u001b[1;33m\u001b[0m\u001b[1;33m\u001b[0m\u001b[0m\n\u001b[0;32m   2515\u001b[0m \u001b[1;33m\u001b[0m\u001b[0m\n",
      "\u001b[1;32m~\\Anaconda3\\lib\\site-packages\\mechanize\\_form_controls.py\u001b[0m in \u001b[0;36m<listcomp>\u001b[1;34m(.0)\u001b[0m\n\u001b[0;32m   2511\u001b[0m \u001b[1;33m\u001b[0m\u001b[0m\n\u001b[0;32m   2512\u001b[0m         \u001b[1;32mdef\u001b[0m \u001b[0mencode_query\u001b[0m\u001b[1;33m(\u001b[0m\u001b[1;33m)\u001b[0m\u001b[1;33m:\u001b[0m\u001b[1;33m\u001b[0m\u001b[1;33m\u001b[0m\u001b[0m\n\u001b[1;32m-> 2513\u001b[1;33m             \u001b[0mp\u001b[0m \u001b[1;33m=\u001b[0m \u001b[1;33m[\u001b[0m\u001b[1;33m(\u001b[0m\u001b[0mas_utf8\u001b[0m\u001b[1;33m(\u001b[0m\u001b[0mk\u001b[0m\u001b[1;33m)\u001b[0m\u001b[1;33m,\u001b[0m \u001b[0mas_utf8\u001b[0m\u001b[1;33m(\u001b[0m\u001b[0mv\u001b[0m\u001b[1;33m)\u001b[0m\u001b[1;33m)\u001b[0m \u001b[1;32mfor\u001b[0m \u001b[0mk\u001b[0m\u001b[1;33m,\u001b[0m \u001b[0mv\u001b[0m \u001b[1;32min\u001b[0m \u001b[0mself\u001b[0m\u001b[1;33m.\u001b[0m\u001b[0m_pairs\u001b[0m\u001b[1;33m(\u001b[0m\u001b[1;33m)\u001b[0m\u001b[1;33m]\u001b[0m\u001b[1;33m\u001b[0m\u001b[1;33m\u001b[0m\u001b[0m\n\u001b[0m\u001b[0;32m   2514\u001b[0m             \u001b[1;32mreturn\u001b[0m \u001b[0murlencode\u001b[0m\u001b[1;33m(\u001b[0m\u001b[0mp\u001b[0m\u001b[1;33m)\u001b[0m\u001b[1;33m\u001b[0m\u001b[1;33m\u001b[0m\u001b[0m\n\u001b[0;32m   2515\u001b[0m \u001b[1;33m\u001b[0m\u001b[0m\n",
      "\u001b[1;32m~\\Anaconda3\\lib\\site-packages\\mechanize\\_form_controls.py\u001b[0m in \u001b[0;36mas_utf8\u001b[1;34m(x)\u001b[0m\n\u001b[0;32m   2507\u001b[0m         \u001b[1;32mdef\u001b[0m \u001b[0mas_utf8\u001b[0m\u001b[1;33m(\u001b[0m\u001b[0mx\u001b[0m\u001b[1;33m)\u001b[0m\u001b[1;33m:\u001b[0m\u001b[1;33m\u001b[0m\u001b[1;33m\u001b[0m\u001b[0m\n\u001b[0;32m   2508\u001b[0m             \u001b[1;32mif\u001b[0m \u001b[1;32mnot\u001b[0m \u001b[0misinstance\u001b[0m\u001b[1;33m(\u001b[0m\u001b[0mx\u001b[0m\u001b[1;33m,\u001b[0m \u001b[0mbytes\u001b[0m\u001b[1;33m)\u001b[0m\u001b[1;33m:\u001b[0m\u001b[1;33m\u001b[0m\u001b[1;33m\u001b[0m\u001b[0m\n\u001b[1;32m-> 2509\u001b[1;33m                 \u001b[0mx\u001b[0m \u001b[1;33m=\u001b[0m \u001b[0mx\u001b[0m\u001b[1;33m.\u001b[0m\u001b[0mencode\u001b[0m\u001b[1;33m(\u001b[0m\u001b[1;34m'utf-8'\u001b[0m\u001b[1;33m)\u001b[0m\u001b[1;33m\u001b[0m\u001b[1;33m\u001b[0m\u001b[0m\n\u001b[0m\u001b[0;32m   2510\u001b[0m             \u001b[1;32mreturn\u001b[0m \u001b[0mx\u001b[0m\u001b[1;33m\u001b[0m\u001b[1;33m\u001b[0m\u001b[0m\n\u001b[0;32m   2511\u001b[0m \u001b[1;33m\u001b[0m\u001b[0m\n",
      "\u001b[1;31mAttributeError\u001b[0m: 'list' object has no attribute 'encode'"
     ]
    }
   ],
   "source": [
    "br.open('https://sonic.pk/cod/shipment/book')\n",
    "br.select_form(nr=1)\n",
    "br.form.find_control('selected_service_type').readonly = False\n",
    "br['selected_service_type'] = 'Regular'\n",
    "br['pickup_address']=['2203']\n",
    "br['information_display'] = ['on']\n",
    "br['consignee_city']=['486']\n",
    "br['consignee_name']='murtaza'\n",
    "br['consignee_address']='n.nazimabad, block e hyderi town'\n",
    "br['consignee_phone_number_1']='03360031836'\n",
    "print('details done')\n",
    "\n",
    "ctl = br.form.find_control(name='product_type',nr=1)\n",
    "br.form.controls.remove(ctl)\n",
    "ctl = br.form.find_control(name='item_description',nr=1)\n",
    "br.form.controls.remove(ctl)\n",
    "ctl = br.form.find_control(name='item_quantity',nr=1)\n",
    "br.form.controls.remove(ctl)\n",
    "\n",
    "br.form.new_control('SelectControl', 'product_type',     {'value': '24'})\n",
    "br.form.new_control('TextControl', 'item_description',     {'value': 'household'})\n",
    "br.form.new_control('TextControl', 'item_quantity',     {'value': '1'})\n",
    "\n",
    "'''for control in br.form.controls:\n",
    "    for item in control.items():\n",
    "        item(br.form.find_control(name='product_type'),{'contents': '24', 'value': '24', 'label': 24})\n",
    "br.form['product_type'] = ['24']'''\n",
    "\n",
    "br['pickup_date']='13 August, 2019'\n",
    "br['special_instructions']='handle with care'\n",
    "br['estimated_weight']='0.1'\n",
    "\n",
    "#ctl = br.form.find_control(name='shipping_mode',nr=1)\n",
    "#br.form.controls.remove(ctl)\n",
    "br.form.new_control('SelectControl', 'shipping_mode',     {'value': ['1']})\n",
    "#br.form['shipping_mode'] = []\n",
    "\n",
    "br['same-day_timing']= ['1']\n",
    "br['charges_mode']=['4']\n",
    "br['amount']='1999'\n",
    "br['payment_mode'] = ['1']\n",
    "#br.form.new_control('SubmitButton', 'book', {'value': 'Book'})\n",
    "form_submit = br.submit()\n",
    "#form_submit = br.submit('book')\n",
    "#print(form_submit)\n",
    "#if len(str(form_submit)) > 10:\n",
    " #   print('Form Submit')\n"
   ]
  },
  {
   "cell_type": "code",
   "execution_count": null,
   "metadata": {},
   "outputs": [],
   "source": [
    "br.open('https://sonic.pk/cod/shipment/book')\n",
    "br.select_form(nr=2)\n",
    "br['service_type']=['1']\n",
    "print(br.submit())\n",
    "br.select_form(nr=1)\n",
    "br['pickup_address']=['2203']\n",
    "br['information_display'][0] = 'off'\n",
    "br['consignee_city']=['486']\n",
    "br['consignee_name']='murtaza'\n",
    "br['consignee_address']='n.nazimabad, block e hyderi town'\n",
    "br['consignee_phone_number_1']='03360031836'\n",
    "#br.select_form(nr=1)\n",
    "#br['product_type'] = ['24']\n",
    "#br['item_description']='household'\n",
    "#br['item_quantity']='1'\n",
    "'''br['replacement_product_type'][0] = None\n",
    "br['replacement_item_description']=None\n",
    "br['replacement_item_quantity']=None\n",
    "br['product_type'][0] = None\n",
    "br['item_description']=None\n",
    "br['item_quantity']=None'''\n",
    "br['pickup_date']='13 August, 2019'\n",
    "br['special_instructions']='handle with care'\n",
    "br['estimated_weight']='0.1'\n",
    "br['shipping_mode']=['1']\n",
    "br['same-day_timing']= ['1']\n",
    "br['charges_mode']=['4']\n",
    "br['amount']='1999'\n",
    "br['payment_mode'] = ['1']\n",
    "form_submit = br.submit('book')\n",
    "if len(str(form_submit)) > 10:\n",
    "    print('Form Submit')\n"
   ]
  },
  {
   "cell_type": "code",
   "execution_count": 5,
   "metadata": {},
   "outputs": [
    {
     "name": "stdout",
     "output_type": "stream",
     "text": [
      "<response_seek_wrapper at 0x22726a47ef0 whose wrapped object = <closeable_response at 0x22726a3d8d0 whose fp = <_io.BufferedReader name=1368>>>\n"
     ]
    }
   ],
   "source": [
    "import mechanize\n",
    "br = mechanize.Browser()\n",
    "br.set_handle_robots(False)\n",
    "response = br.open('https://sonic.pk/cod/')\n",
    "br.select_form(nr=0)\n",
    "\n",
    "br[\"email\"] = 'idealancy@gmail.com'\n",
    "br[\"password\"] = 'abcd1234'\n",
    "sign_in = br.submit()\n",
    "print(sign_in)\n"
   ]
  },
  {
   "cell_type": "code",
   "execution_count": 9,
   "metadata": {},
   "outputs": [
    {
     "name": "stdout",
     "output_type": "stream",
     "text": [
      "<POST https://sonic.pk/cod/logout application/x-www-form-urlencoded\n",
      "  <HiddenControl(_token=mpdlBY6LHRcejMhWSq89rDpd1DDFDCVGNqozg7Ig) (readonly)>>\n",
      "<POST https://sonic.pk/cod/shipment/book/excel multipart/form-data\n",
      "  <HiddenControl(_token=mpdlBY6LHRcejMhWSq89rDpd1DDFDCVGNqozg7Ig) (readonly)>\n",
      "  <FileControl(shipments=<No files added>)>\n",
      "  <SubmitButtonControl(upload=) (readonly)>>\n"
     ]
    }
   ],
   "source": [
    "br.set_handle_robots(False)\n",
    "br.open('https://sonic.pk/cod/shipment/book/excel')\n",
    "for form in br.forms():\n",
    "    print(form)"
   ]
  },
  {
   "cell_type": "code",
   "execution_count": 51,
   "metadata": {
    "scrolled": true
   },
   "outputs": [
    {
     "ename": "UnicodeDecodeError",
     "evalue": "'charmap' codec can't decode byte 0x8d in position 639: character maps to <undefined>",
     "output_type": "error",
     "traceback": [
      "\u001b[1;31m---------------------------------------------------------------------------\u001b[0m",
      "\u001b[1;31mUnicodeDecodeError\u001b[0m                        Traceback (most recent call last)",
      "\u001b[1;32m<ipython-input-51-3dbf7991d4fe>\u001b[0m in \u001b[0;36m<module>\u001b[1;34m\u001b[0m\n\u001b[0;32m      5\u001b[0m \u001b[1;31m#br[\"shipments\"] = [\"cod booking.xlsx\"]\u001b[0m\u001b[1;33m\u001b[0m\u001b[1;33m\u001b[0m\u001b[1;33m\u001b[0m\u001b[0m\n\u001b[0;32m      6\u001b[0m \u001b[0mbr\u001b[0m\u001b[1;33m.\u001b[0m\u001b[0mform\u001b[0m\u001b[1;33m.\u001b[0m\u001b[0mnew_control\u001b[0m\u001b[1;33m(\u001b[0m\u001b[1;34m'SubmitButton'\u001b[0m\u001b[1;33m,\u001b[0m \u001b[1;34m'upload'\u001b[0m\u001b[1;33m,\u001b[0m \u001b[1;33m{\u001b[0m\u001b[1;34m'value'\u001b[0m\u001b[1;33m:\u001b[0m \u001b[1;34m'Upload'\u001b[0m\u001b[1;33m}\u001b[0m\u001b[1;33m)\u001b[0m\u001b[1;33m\u001b[0m\u001b[1;33m\u001b[0m\u001b[0m\n\u001b[1;32m----> 7\u001b[1;33m \u001b[0mbr\u001b[0m\u001b[1;33m.\u001b[0m\u001b[0msubmit\u001b[0m\u001b[1;33m(\u001b[0m\u001b[0mname\u001b[0m\u001b[1;33m=\u001b[0m\u001b[1;34m'upload'\u001b[0m\u001b[1;33m,\u001b[0m\u001b[0mnr\u001b[0m\u001b[1;33m=\u001b[0m\u001b[1;36m1\u001b[0m\u001b[1;33m)\u001b[0m\u001b[1;33m\u001b[0m\u001b[1;33m\u001b[0m\u001b[0m\n\u001b[0m\u001b[0;32m      8\u001b[0m \u001b[1;31m#print(br.submit(name='upload',nr=1))\u001b[0m\u001b[1;33m\u001b[0m\u001b[1;33m\u001b[0m\u001b[1;33m\u001b[0m\u001b[0m\n",
      "\u001b[1;32m~\\Anaconda3\\lib\\site-packages\\mechanize\\_mechanize.py\u001b[0m in \u001b[0;36msubmit\u001b[1;34m(self, *args, **kwds)\u001b[0m\n\u001b[0;32m    682\u001b[0m         \u001b[0mReturn\u001b[0m \u001b[0mvalue\u001b[0m \u001b[1;32mis\u001b[0m \u001b[0msame\u001b[0m \u001b[1;32mas\u001b[0m \u001b[1;32mfor\u001b[0m \u001b[1;33m:\u001b[0m\u001b[0mmeth\u001b[0m\u001b[1;33m:\u001b[0m\u001b[0;31m`\u001b[0m\u001b[0mopen\u001b[0m\u001b[1;33m(\u001b[0m\u001b[1;33m)\u001b[0m\u001b[0;31m`\u001b[0m\u001b[1;33m.\u001b[0m\u001b[1;33m\u001b[0m\u001b[1;33m\u001b[0m\u001b[0m\n\u001b[0;32m    683\u001b[0m         \"\"\"\n\u001b[1;32m--> 684\u001b[1;33m         \u001b[1;32mreturn\u001b[0m \u001b[0mself\u001b[0m\u001b[1;33m.\u001b[0m\u001b[0mopen\u001b[0m\u001b[1;33m(\u001b[0m\u001b[0mself\u001b[0m\u001b[1;33m.\u001b[0m\u001b[0mclick\u001b[0m\u001b[1;33m(\u001b[0m\u001b[1;33m*\u001b[0m\u001b[0margs\u001b[0m\u001b[1;33m,\u001b[0m \u001b[1;33m**\u001b[0m\u001b[0mkwds\u001b[0m\u001b[1;33m)\u001b[0m\u001b[1;33m)\u001b[0m\u001b[1;33m\u001b[0m\u001b[1;33m\u001b[0m\u001b[0m\n\u001b[0m\u001b[0;32m    685\u001b[0m \u001b[1;33m\u001b[0m\u001b[0m\n\u001b[0;32m    686\u001b[0m     \u001b[1;32mdef\u001b[0m \u001b[0mclick_link\u001b[0m\u001b[1;33m(\u001b[0m\u001b[0mself\u001b[0m\u001b[1;33m,\u001b[0m \u001b[0mlink\u001b[0m\u001b[1;33m=\u001b[0m\u001b[1;32mNone\u001b[0m\u001b[1;33m,\u001b[0m \u001b[1;33m**\u001b[0m\u001b[0mkwds\u001b[0m\u001b[1;33m)\u001b[0m\u001b[1;33m:\u001b[0m\u001b[1;33m\u001b[0m\u001b[1;33m\u001b[0m\u001b[0m\n",
      "\u001b[1;32m~\\Anaconda3\\lib\\site-packages\\mechanize\\_mechanize.py\u001b[0m in \u001b[0;36mclick\u001b[1;34m(self, *args, **kwds)\u001b[0m\n\u001b[0;32m    672\u001b[0m         \u001b[1;32mif\u001b[0m \u001b[1;32mnot\u001b[0m \u001b[0mself\u001b[0m\u001b[1;33m.\u001b[0m\u001b[0mviewing_html\u001b[0m\u001b[1;33m(\u001b[0m\u001b[1;33m)\u001b[0m\u001b[1;33m:\u001b[0m\u001b[1;33m\u001b[0m\u001b[1;33m\u001b[0m\u001b[0m\n\u001b[0;32m    673\u001b[0m             \u001b[1;32mraise\u001b[0m \u001b[0mBrowserStateError\u001b[0m\u001b[1;33m(\u001b[0m\u001b[1;34m\"not viewing HTML\"\u001b[0m\u001b[1;33m)\u001b[0m\u001b[1;33m\u001b[0m\u001b[1;33m\u001b[0m\u001b[0m\n\u001b[1;32m--> 674\u001b[1;33m         \u001b[0mrequest\u001b[0m \u001b[1;33m=\u001b[0m \u001b[0mself\u001b[0m\u001b[1;33m.\u001b[0m\u001b[0mform\u001b[0m\u001b[1;33m.\u001b[0m\u001b[0mclick\u001b[0m\u001b[1;33m(\u001b[0m\u001b[1;33m*\u001b[0m\u001b[0margs\u001b[0m\u001b[1;33m,\u001b[0m \u001b[1;33m**\u001b[0m\u001b[0mkwds\u001b[0m\u001b[1;33m)\u001b[0m\u001b[1;33m\u001b[0m\u001b[1;33m\u001b[0m\u001b[0m\n\u001b[0m\u001b[0;32m    675\u001b[0m         \u001b[1;32mreturn\u001b[0m \u001b[0mself\u001b[0m\u001b[1;33m.\u001b[0m\u001b[0m_add_referer_header\u001b[0m\u001b[1;33m(\u001b[0m\u001b[0mrequest\u001b[0m\u001b[1;33m)\u001b[0m\u001b[1;33m\u001b[0m\u001b[1;33m\u001b[0m\u001b[0m\n\u001b[0;32m    676\u001b[0m \u001b[1;33m\u001b[0m\u001b[0m\n",
      "\u001b[1;32m~\\Anaconda3\\lib\\site-packages\\mechanize\\_form_controls.py\u001b[0m in \u001b[0;36mclick\u001b[1;34m(self, name, type, id, nr, coord, request_class, label)\u001b[0m\n\u001b[0;32m   2253\u001b[0m         \"\"\"\n\u001b[0;32m   2254\u001b[0m         return self._click(name, type, id, label, nr, coord, \"request\",\n\u001b[1;32m-> 2255\u001b[1;33m                            self._request_class)\n\u001b[0m\u001b[0;32m   2256\u001b[0m \u001b[1;33m\u001b[0m\u001b[0m\n\u001b[0;32m   2257\u001b[0m     def click_request_data(self,\n",
      "\u001b[1;32m~\\Anaconda3\\lib\\site-packages\\mechanize\\_form_controls.py\u001b[0m in \u001b[0;36m_click\u001b[1;34m(self, name, type, id, label, nr, coord, return_type, request_class)\u001b[0m\n\u001b[0;32m   2471\u001b[0m                     self.enctype = control.attrs.get(\n\u001b[0;32m   2472\u001b[0m                         'formenctype') or self.enctype\n\u001b[1;32m-> 2473\u001b[1;33m                 \u001b[1;32mreturn\u001b[0m \u001b[0mcontrol\u001b[0m\u001b[1;33m.\u001b[0m\u001b[0m_click\u001b[0m\u001b[1;33m(\u001b[0m\u001b[0mself\u001b[0m\u001b[1;33m,\u001b[0m \u001b[0mcoord\u001b[0m\u001b[1;33m,\u001b[0m \u001b[0mreturn_type\u001b[0m\u001b[1;33m,\u001b[0m \u001b[0mrequest_class\u001b[0m\u001b[1;33m)\u001b[0m\u001b[1;33m\u001b[0m\u001b[1;33m\u001b[0m\u001b[0m\n\u001b[0m\u001b[0;32m   2474\u001b[0m             \u001b[1;32mfinally\u001b[0m\u001b[1;33m:\u001b[0m\u001b[1;33m\u001b[0m\u001b[1;33m\u001b[0m\u001b[0m\n\u001b[0;32m   2475\u001b[0m                 \u001b[0mself\u001b[0m\u001b[1;33m.\u001b[0m\u001b[0mmethod\u001b[0m\u001b[1;33m,\u001b[0m \u001b[0mself\u001b[0m\u001b[1;33m.\u001b[0m\u001b[0maction\u001b[0m\u001b[1;33m,\u001b[0m \u001b[0mself\u001b[0m\u001b[1;33m.\u001b[0m\u001b[0menctype\u001b[0m \u001b[1;33m=\u001b[0m \u001b[0moriginals\u001b[0m\u001b[1;33m\u001b[0m\u001b[1;33m\u001b[0m\u001b[0m\n",
      "\u001b[1;32m~\\Anaconda3\\lib\\site-packages\\mechanize\\_form_controls.py\u001b[0m in \u001b[0;36m_click\u001b[1;34m(self, form, coord, return_type, request_class)\u001b[0m\n\u001b[0;32m   1514\u001b[0m     \u001b[1;32mdef\u001b[0m \u001b[0m_click\u001b[0m\u001b[1;33m(\u001b[0m\u001b[0mself\u001b[0m\u001b[1;33m,\u001b[0m \u001b[0mform\u001b[0m\u001b[1;33m,\u001b[0m \u001b[0mcoord\u001b[0m\u001b[1;33m,\u001b[0m \u001b[0mreturn_type\u001b[0m\u001b[1;33m,\u001b[0m \u001b[0mrequest_class\u001b[0m\u001b[1;33m=\u001b[0m\u001b[0m_request\u001b[0m\u001b[1;33m.\u001b[0m\u001b[0mRequest\u001b[0m\u001b[1;33m)\u001b[0m\u001b[1;33m:\u001b[0m\u001b[1;33m\u001b[0m\u001b[1;33m\u001b[0m\u001b[0m\n\u001b[0;32m   1515\u001b[0m         \u001b[0mself\u001b[0m\u001b[1;33m.\u001b[0m\u001b[0m_clicked\u001b[0m \u001b[1;33m=\u001b[0m \u001b[0mcoord\u001b[0m\u001b[1;33m\u001b[0m\u001b[1;33m\u001b[0m\u001b[0m\n\u001b[1;32m-> 1516\u001b[1;33m         \u001b[0mr\u001b[0m \u001b[1;33m=\u001b[0m \u001b[0mform\u001b[0m\u001b[1;33m.\u001b[0m\u001b[0m_switch_click\u001b[0m\u001b[1;33m(\u001b[0m\u001b[0mreturn_type\u001b[0m\u001b[1;33m,\u001b[0m \u001b[0mrequest_class\u001b[0m\u001b[1;33m)\u001b[0m\u001b[1;33m\u001b[0m\u001b[1;33m\u001b[0m\u001b[0m\n\u001b[0m\u001b[0;32m   1517\u001b[0m         \u001b[0mself\u001b[0m\u001b[1;33m.\u001b[0m\u001b[0m_clicked\u001b[0m \u001b[1;33m=\u001b[0m \u001b[1;32mFalse\u001b[0m\u001b[1;33m\u001b[0m\u001b[1;33m\u001b[0m\u001b[0m\n\u001b[0;32m   1518\u001b[0m         \u001b[1;32mreturn\u001b[0m \u001b[0mr\u001b[0m\u001b[1;33m\u001b[0m\u001b[1;33m\u001b[0m\u001b[0m\n",
      "\u001b[1;32m~\\Anaconda3\\lib\\site-packages\\mechanize\\_form_controls.py\u001b[0m in \u001b[0;36m_switch_click\u001b[1;34m(self, return_type, request_class)\u001b[0m\n\u001b[0;32m   2552\u001b[0m             \u001b[1;32mreturn\u001b[0m \u001b[0mself\u001b[0m\u001b[1;33m.\u001b[0m\u001b[0m_request_data\u001b[0m\u001b[1;33m(\u001b[0m\u001b[1;33m)\u001b[0m\u001b[1;33m\u001b[0m\u001b[1;33m\u001b[0m\u001b[0m\n\u001b[0;32m   2553\u001b[0m         \u001b[1;32melse\u001b[0m\u001b[1;33m:\u001b[0m\u001b[1;33m\u001b[0m\u001b[1;33m\u001b[0m\u001b[0m\n\u001b[1;32m-> 2554\u001b[1;33m             \u001b[0mreq_data\u001b[0m \u001b[1;33m=\u001b[0m \u001b[0mself\u001b[0m\u001b[1;33m.\u001b[0m\u001b[0m_request_data\u001b[0m\u001b[1;33m(\u001b[0m\u001b[1;33m)\u001b[0m\u001b[1;33m\u001b[0m\u001b[1;33m\u001b[0m\u001b[0m\n\u001b[0m\u001b[0;32m   2555\u001b[0m             \u001b[0mreq\u001b[0m \u001b[1;33m=\u001b[0m \u001b[0mrequest_class\u001b[0m\u001b[1;33m(\u001b[0m\u001b[0mreq_data\u001b[0m\u001b[1;33m[\u001b[0m\u001b[1;36m0\u001b[0m\u001b[1;33m]\u001b[0m\u001b[1;33m,\u001b[0m \u001b[0mreq_data\u001b[0m\u001b[1;33m[\u001b[0m\u001b[1;36m1\u001b[0m\u001b[1;33m]\u001b[0m\u001b[1;33m)\u001b[0m\u001b[1;33m\u001b[0m\u001b[1;33m\u001b[0m\u001b[0m\n\u001b[0;32m   2556\u001b[0m             \u001b[1;32mfor\u001b[0m \u001b[0mkey\u001b[0m\u001b[1;33m,\u001b[0m \u001b[0mval\u001b[0m \u001b[1;32min\u001b[0m \u001b[0mreq_data\u001b[0m\u001b[1;33m[\u001b[0m\u001b[1;36m2\u001b[0m\u001b[1;33m]\u001b[0m\u001b[1;33m:\u001b[0m\u001b[1;33m\u001b[0m\u001b[1;33m\u001b[0m\u001b[0m\n",
      "\u001b[1;32m~\\Anaconda3\\lib\\site-packages\\mechanize\\_form_controls.py\u001b[0m in \u001b[0;36m_request_data\u001b[1;34m(self)\u001b[0m\n\u001b[0;32m   2535\u001b[0m                 \u001b[1;32mfor\u001b[0m \u001b[0mii\u001b[0m\u001b[1;33m,\u001b[0m \u001b[0mk\u001b[0m\u001b[1;33m,\u001b[0m \u001b[0mv\u001b[0m\u001b[1;33m,\u001b[0m \u001b[0mcontrol_index\u001b[0m \u001b[1;32min\u001b[0m \u001b[0mself\u001b[0m\u001b[1;33m.\u001b[0m\u001b[0m_pairs_and_controls\u001b[0m\u001b[1;33m(\u001b[0m\u001b[1;33m)\u001b[0m\u001b[1;33m:\u001b[0m\u001b[1;33m\u001b[0m\u001b[1;33m\u001b[0m\u001b[0m\n\u001b[0;32m   2536\u001b[0m                     self.controls[control_index]._write_mime_data(\n\u001b[1;32m-> 2537\u001b[1;33m                             mw, as_utf8(k), as_utf8(v))\n\u001b[0m\u001b[0;32m   2538\u001b[0m                 \u001b[0mmw\u001b[0m\u001b[1;33m.\u001b[0m\u001b[0mlastpart\u001b[0m\u001b[1;33m(\u001b[0m\u001b[1;33m)\u001b[0m\u001b[1;33m\u001b[0m\u001b[1;33m\u001b[0m\u001b[0m\n\u001b[0;32m   2539\u001b[0m                 \u001b[1;32mreturn\u001b[0m \u001b[0muri\u001b[0m\u001b[1;33m,\u001b[0m \u001b[0mdata\u001b[0m\u001b[1;33m.\u001b[0m\u001b[0mgetvalue\u001b[0m\u001b[1;33m(\u001b[0m\u001b[1;33m)\u001b[0m\u001b[1;33m,\u001b[0m \u001b[0mhttp_hdrs\u001b[0m\u001b[1;33m\u001b[0m\u001b[1;33m\u001b[0m\u001b[0m\n",
      "\u001b[1;32m~\\Anaconda3\\lib\\site-packages\\mechanize\\_form_controls.py\u001b[0m in \u001b[0;36m_write_mime_data\u001b[1;34m(self, mw, _name, _value)\u001b[0m\n\u001b[0;32m    556\u001b[0m             \u001b[0mmw2\u001b[0m\u001b[1;33m.\u001b[0m\u001b[0maddheader\u001b[0m\u001b[1;33m(\u001b[0m\u001b[1;34m\"Content-Disposition\"\u001b[0m\u001b[1;33m,\u001b[0m \u001b[0mdisp\u001b[0m\u001b[1;33m,\u001b[0m \u001b[0mprefix\u001b[0m\u001b[1;33m=\u001b[0m\u001b[1;36m1\u001b[0m\u001b[1;33m)\u001b[0m\u001b[1;33m\u001b[0m\u001b[1;33m\u001b[0m\u001b[0m\n\u001b[0;32m    557\u001b[0m             \u001b[0mfh\u001b[0m \u001b[1;33m=\u001b[0m \u001b[0mmw2\u001b[0m\u001b[1;33m.\u001b[0m\u001b[0mstartbody\u001b[0m\u001b[1;33m(\u001b[0m\u001b[0mcontent_type\u001b[0m\u001b[1;33m,\u001b[0m \u001b[0mprefix\u001b[0m\u001b[1;33m=\u001b[0m\u001b[1;36m0\u001b[0m\u001b[1;33m)\u001b[0m\u001b[1;33m\u001b[0m\u001b[1;33m\u001b[0m\u001b[0m\n\u001b[1;32m--> 558\u001b[1;33m             \u001b[0mfh\u001b[0m\u001b[1;33m.\u001b[0m\u001b[0mwrite\u001b[0m\u001b[1;33m(\u001b[0m\u001b[0mfile_object\u001b[0m\u001b[1;33m.\u001b[0m\u001b[0mread\u001b[0m\u001b[1;33m(\u001b[0m\u001b[1;33m)\u001b[0m\u001b[1;33m)\u001b[0m\u001b[1;33m\u001b[0m\u001b[1;33m\u001b[0m\u001b[0m\n\u001b[0m\u001b[0;32m    559\u001b[0m         \u001b[1;32melse\u001b[0m\u001b[1;33m:\u001b[0m\u001b[1;33m\u001b[0m\u001b[1;33m\u001b[0m\u001b[0m\n\u001b[0;32m    560\u001b[0m             \u001b[1;31m# multiple files\u001b[0m\u001b[1;33m\u001b[0m\u001b[1;33m\u001b[0m\u001b[1;33m\u001b[0m\u001b[0m\n",
      "\u001b[1;32m~\\Anaconda3\\lib\\encodings\\cp1252.py\u001b[0m in \u001b[0;36mdecode\u001b[1;34m(self, input, final)\u001b[0m\n\u001b[0;32m     21\u001b[0m \u001b[1;32mclass\u001b[0m \u001b[0mIncrementalDecoder\u001b[0m\u001b[1;33m(\u001b[0m\u001b[0mcodecs\u001b[0m\u001b[1;33m.\u001b[0m\u001b[0mIncrementalDecoder\u001b[0m\u001b[1;33m)\u001b[0m\u001b[1;33m:\u001b[0m\u001b[1;33m\u001b[0m\u001b[1;33m\u001b[0m\u001b[0m\n\u001b[0;32m     22\u001b[0m     \u001b[1;32mdef\u001b[0m \u001b[0mdecode\u001b[0m\u001b[1;33m(\u001b[0m\u001b[0mself\u001b[0m\u001b[1;33m,\u001b[0m \u001b[0minput\u001b[0m\u001b[1;33m,\u001b[0m \u001b[0mfinal\u001b[0m\u001b[1;33m=\u001b[0m\u001b[1;32mFalse\u001b[0m\u001b[1;33m)\u001b[0m\u001b[1;33m:\u001b[0m\u001b[1;33m\u001b[0m\u001b[1;33m\u001b[0m\u001b[0m\n\u001b[1;32m---> 23\u001b[1;33m         \u001b[1;32mreturn\u001b[0m \u001b[0mcodecs\u001b[0m\u001b[1;33m.\u001b[0m\u001b[0mcharmap_decode\u001b[0m\u001b[1;33m(\u001b[0m\u001b[0minput\u001b[0m\u001b[1;33m,\u001b[0m\u001b[0mself\u001b[0m\u001b[1;33m.\u001b[0m\u001b[0merrors\u001b[0m\u001b[1;33m,\u001b[0m\u001b[0mdecoding_table\u001b[0m\u001b[1;33m)\u001b[0m\u001b[1;33m[\u001b[0m\u001b[1;36m0\u001b[0m\u001b[1;33m]\u001b[0m\u001b[1;33m\u001b[0m\u001b[1;33m\u001b[0m\u001b[0m\n\u001b[0m\u001b[0;32m     24\u001b[0m \u001b[1;33m\u001b[0m\u001b[0m\n\u001b[0;32m     25\u001b[0m \u001b[1;32mclass\u001b[0m \u001b[0mStreamWriter\u001b[0m\u001b[1;33m(\u001b[0m\u001b[0mCodec\u001b[0m\u001b[1;33m,\u001b[0m\u001b[0mcodecs\u001b[0m\u001b[1;33m.\u001b[0m\u001b[0mStreamWriter\u001b[0m\u001b[1;33m)\u001b[0m\u001b[1;33m:\u001b[0m\u001b[1;33m\u001b[0m\u001b[1;33m\u001b[0m\u001b[0m\n",
      "\u001b[1;31mUnicodeDecodeError\u001b[0m: 'charmap' codec can't decode byte 0x8d in position 639: character maps to <undefined>"
     ]
    }
   ],
   "source": [
    "br.set_handle_equiv(False)\n",
    "br.open('https://sonic.pk/cod/shipment/book/excel')\n",
    "br.select_form(nr=1)\n",
    "br.form.add_file(open(\"cod booking.xlsx\"), 'text/plain', \"cod booking.xlsx\", name='shipments')\n",
    "#br[\"shipments\"] = [\"cod booking.xlsx\"]\n",
    "br.form.new_control('SubmitButton', 'upload', {'value': 'Upload'})\n",
    "br.submit(name='upload',nr=1)\n",
    "#print(br.submit(name='upload',nr=1))"
   ]
  }
 ],
 "metadata": {
  "kernelspec": {
   "display_name": "Python 3",
   "language": "python",
   "name": "python3"
  },
  "language_info": {
   "codemirror_mode": {
    "name": "ipython",
    "version": 3
   },
   "file_extension": ".py",
   "mimetype": "text/x-python",
   "name": "python",
   "nbconvert_exporter": "python",
   "pygments_lexer": "ipython3",
   "version": "3.7.3"
  }
 },
 "nbformat": 4,
 "nbformat_minor": 2
}
