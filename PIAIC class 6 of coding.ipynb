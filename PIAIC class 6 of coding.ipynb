{
 "cells": [
  {
   "cell_type": "markdown",
   "metadata": {},
   "source": [
    "# Functions "
   ]
  },
  {
   "cell_type": "code",
   "execution_count": 1,
   "metadata": {},
   "outputs": [
    {
     "name": "stdout",
     "output_type": "stream",
     "text": [
      "APNA TIME AYGA\n"
     ]
    }
   ],
   "source": [
    "def greet_user():\n",
    "    print('APNA TIME AYGA')\n",
    "    \n",
    "greet_user()"
   ]
  },
  {
   "cell_type": "code",
   "execution_count": 2,
   "metadata": {},
   "outputs": [
    {
     "name": "stdout",
     "output_type": "stream",
     "text": [
      "8\n"
     ]
    }
   ],
   "source": [
    "def multiply(a, b): # parameters\n",
    "    c = a * b\n",
    "    print(c)\n",
    "    \n",
    "multiply(2,4) # multiply (arguments)\n"
   ]
  },
  {
   "cell_type": "code",
   "execution_count": 4,
   "metadata": {},
   "outputs": [
    {
     "name": "stdout",
     "output_type": "stream",
     "text": [
      "25\n"
     ]
    }
   ],
   "source": [
    "multiply(5,5)"
   ]
  },
  {
   "cell_type": "code",
   "execution_count": 5,
   "metadata": {},
   "outputs": [],
   "source": [
    "def add(a,b):\n",
    "    c = a + b\n",
    "    return c"
   ]
  },
  {
   "cell_type": "code",
   "execution_count": 7,
   "metadata": {},
   "outputs": [
    {
     "name": "stdout",
     "output_type": "stream",
     "text": [
      "6\n"
     ]
    }
   ],
   "source": [
    "print(add(3,3))"
   ]
  },
  {
   "cell_type": "code",
   "execution_count": 10,
   "metadata": {},
   "outputs": [],
   "source": [
    "def subtract(a,b):\n",
    "    c = a - b\n",
    "    return c"
   ]
  },
  {
   "cell_type": "code",
   "execution_count": 12,
   "metadata": {},
   "outputs": [
    {
     "name": "stdout",
     "output_type": "stream",
     "text": [
      "-1\n"
     ]
    }
   ],
   "source": [
    "print(subtract(3,4))"
   ]
  },
  {
   "cell_type": "code",
   "execution_count": 15,
   "metadata": {},
   "outputs": [],
   "source": [
    "def divid(a,b):\n",
    "    c = a / b\n",
    "    return c"
   ]
  },
  {
   "cell_type": "code",
   "execution_count": 16,
   "metadata": {},
   "outputs": [
    {
     "name": "stdout",
     "output_type": "stream",
     "text": [
      "2.0\n"
     ]
    }
   ],
   "source": [
    "print(divid(4,2))"
   ]
  },
  {
   "cell_type": "code",
   "execution_count": 3,
   "metadata": {},
   "outputs": [],
   "source": [
    "def full_name(a,b,c):\n",
    "    d = a + \" \" + b + \" \" + c\n",
    "    print(d)"
   ]
  },
  {
   "cell_type": "code",
   "execution_count": 4,
   "metadata": {},
   "outputs": [
    {
     "name": "stdout",
     "output_type": "stream",
     "text": [
      "murtaza huzaifa D\n"
     ]
    }
   ],
   "source": [
    "full_name('murtaza','huzaifa','D')"
   ]
  },
  {
   "cell_type": "code",
   "execution_count": 5,
   "metadata": {},
   "outputs": [],
   "source": [
    "def Full_Name():\n",
    "    first_Name = input('type your first name: ')\n",
    "    second_Name = input('type your middle name: ')\n",
    "    last_Name = input('type your last name: ')\n",
    "\n",
    "    print('''\n",
    "    Your Full name is''',end = ' ')\n",
    "    full_name( first_Name , second_Name , last_Name )"
   ]
  },
  {
   "cell_type": "code",
   "execution_count": 6,
   "metadata": {},
   "outputs": [
    {
     "name": "stdout",
     "output_type": "stream",
     "text": [
      "type your first name: Murtaza\n",
      "type your middle name: Huzaifa\n",
      "type your last name: :D\n",
      "\n",
      "    Your Full name is Murtaza Huzaifa :D\n"
     ]
    }
   ],
   "source": [
    "Full_Name()"
   ]
  },
  {
   "cell_type": "code",
   "execution_count": 41,
   "metadata": {},
   "outputs": [],
   "source": [
    "def Calc( num1 , num2 , operator ):\n",
    "    \n",
    "    if operator ==  '-':\n",
    "        c =  num1 - num2\n",
    "        print(c)\n",
    "    elif operator == '+' :\n",
    "        c =  num1 + num2\n",
    "        print(c)\n",
    "    elif operator == '*' :\n",
    "        c =  num1 * num2\n",
    "        print(c)\n",
    "    elif operator == '/':\n",
    "        c = num1 / num2\n",
    "        print(C)\n",
    "    else:\n",
    "        print('operator not defined')"
   ]
  },
  {
   "cell_type": "code",
   "execution_count": 44,
   "metadata": {},
   "outputs": [
    {
     "name": "stdout",
     "output_type": "stream",
     "text": [
      "-1\n"
     ]
    }
   ],
   "source": [
    "Calc(2,3,-)"
   ]
  },
  {
   "cell_type": "markdown",
   "metadata": {},
   "source": [
    "# Key Word Argument "
   ]
  },
  {
   "cell_type": "code",
   "execution_count": 36,
   "metadata": {},
   "outputs": [
    {
     "name": "stdout",
     "output_type": "stream",
     "text": [
      "-2\n"
     ]
    }
   ],
   "source": [
    "Calc(num1 = 2,operator = '-',num2 = 4) "
   ]
  },
  {
   "cell_type": "markdown",
   "metadata": {},
   "source": [
    "# Default Parameter"
   ]
  },
  {
   "cell_type": "code",
   "execution_count": 50,
   "metadata": {},
   "outputs": [
    {
     "name": "stdout",
     "output_type": "stream",
     "text": [
      "My name is Murtaza\n",
      "My age is 21\n",
      "My gender is male\n"
     ]
    }
   ],
   "source": [
    "def my_info(name, age = 21 , gender = 'male' ):\n",
    "    print(f'My name is {name}')\n",
    "    print(f'My age is {age}')\n",
    "    print(f'My gender is {gender}')\n",
    "    \n",
    "my_info('Murtaza',21)"
   ]
  },
  {
   "cell_type": "code",
   "execution_count": 55,
   "metadata": {},
   "outputs": [
    {
     "name": "stdout",
     "output_type": "stream",
     "text": [
      "Murtaza Hanzala d\n"
     ]
    }
   ],
   "source": [
    "def my_name_is(fname,mname,lname = ''):\n",
    "    if mname:\n",
    "        full_name = fname + \" \" + mname + \" \" + lname\n",
    "    else:\n",
    "        full_name = fname + \" \" + lname\n",
    "    return full_name\n",
    "a = my_name_is('Murtaza','Hanzala',\"d\")\n",
    "print (a)"
   ]
  },
  {
   "cell_type": "code",
   "execution_count": 57,
   "metadata": {},
   "outputs": [
    {
     "name": "stdout",
     "output_type": "stream",
     "text": [
      "Murtaza huzaifa \n"
     ]
    }
   ],
   "source": [
    "b = my_name_is('Murtaza',\"huzaifa\")\n",
    "print(b)"
   ]
  },
  {
   "cell_type": "code",
   "execution_count": 65,
   "metadata": {
    "scrolled": true
   },
   "outputs": [
    {
     "name": "stdout",
     "output_type": "stream",
     "text": [
      "Hello abbas\n",
      "Hello murtaza\n",
      "Hello asad\n",
      "Hello nasir\n",
      "Hello Mujji\n"
     ]
    }
   ],
   "source": [
    "friends_list = ['abbas','murtaza', 'asad', 'nasir',\"Mujji\"]\n",
    "\n",
    "def call_friends(friends):\n",
    "    for friend in friends:\n",
    "        print(\"Hello \" + friend, end = '\\n')\n",
    "\n",
    "call_friends(friends_list)"
   ]
  },
  {
   "cell_type": "code",
   "execution_count": 71,
   "metadata": {},
   "outputs": [
    {
     "name": "stdout",
     "output_type": "stream",
     "text": [
      "first murtaza\n",
      "last name huzaifa\n",
      "age 21\n",
      "gender male\n"
     ]
    }
   ],
   "source": [
    "def human(f_name, l_name,age, gender):\n",
    "    build_human = {'first':f_name, 'last name': l_name,\"age\": age, 'gender' : gender}\n",
    "    for keys , values in build_human.items():\n",
    "        print(keys, values)\n",
    "\n",
    "human('murtaza','huzaifa',21,'male')"
   ]
  },
  {
   "cell_type": "code",
   "execution_count": 73,
   "metadata": {},
   "outputs": [
    {
     "name": "stdout",
     "output_type": "stream",
     "text": [
      "first murtaza\n",
      "('asdf', 'dsfsv', 121213)\n",
      "last name huzaifa\n",
      "('asdf', 'dsfsv', 121213)\n",
      "age 21\n",
      "('asdf', 'dsfsv', 121213)\n",
      "gender male\n",
      "('asdf', 'dsfsv', 121213)\n"
     ]
    }
   ],
   "source": [
    "def human(f_name, l_name,age, gender, *others):  # (*) the astick sign will help in not to crash the function and save others in the form of tuple \n",
    "    build_human = {'first':f_name, 'last name': l_name,\"age\": age, 'gender' : gender}\n",
    "    for keys , values in build_human.items():\n",
    "        print(keys, values)\n",
    "        print(others)\n",
    "\n",
    "human('murtaza','huzaifa',21,'male','asdf','dsfsv',121213)"
   ]
  },
  {
   "cell_type": "code",
   "execution_count": 77,
   "metadata": {},
   "outputs": [
    {
     "ename": "TypeError",
     "evalue": "human() takes 4 positional arguments but 7 were given",
     "output_type": "error",
     "traceback": [
      "\u001b[1;31m---------------------------------------------------------------------------\u001b[0m",
      "\u001b[1;31mTypeError\u001b[0m                                 Traceback (most recent call last)",
      "\u001b[1;32m<ipython-input-77-7b95cd65cf38>\u001b[0m in \u001b[0;36m<module>\u001b[1;34m\u001b[0m\n\u001b[0;32m      5\u001b[0m         \u001b[0mprint\u001b[0m\u001b[1;33m(\u001b[0m\u001b[0mothers\u001b[0m\u001b[1;33m)\u001b[0m\u001b[1;33m\u001b[0m\u001b[1;33m\u001b[0m\u001b[0m\n\u001b[0;32m      6\u001b[0m \u001b[1;33m\u001b[0m\u001b[0m\n\u001b[1;32m----> 7\u001b[1;33m \u001b[0mhuman\u001b[0m\u001b[1;33m(\u001b[0m\u001b[1;34m'murtaza'\u001b[0m\u001b[1;33m,\u001b[0m\u001b[1;34m'huzaifa'\u001b[0m\u001b[1;33m,\u001b[0m\u001b[1;36m21\u001b[0m\u001b[1;33m,\u001b[0m\u001b[1;34m'male'\u001b[0m\u001b[1;33m,\u001b[0m\u001b[1;33m{\u001b[0m\u001b[1;34m'asdf'\u001b[0m\u001b[1;33m:\u001b[0m\u001b[1;36m12234\u001b[0m\u001b[1;33m}\u001b[0m\u001b[1;33m,\u001b[0m\u001b[1;33m{\u001b[0m\u001b[1;34m'dsfsv'\u001b[0m\u001b[1;33m:\u001b[0m\u001b[1;34m'acas'\u001b[0m\u001b[1;33m}\u001b[0m\u001b[1;33m,\u001b[0m\u001b[1;33m{\u001b[0m\u001b[1;36m121213\u001b[0m \u001b[1;33m:\u001b[0m \u001b[1;34m'ascaci'\u001b[0m\u001b[1;33m}\u001b[0m\u001b[1;33m)\u001b[0m\u001b[1;33m\u001b[0m\u001b[1;33m\u001b[0m\u001b[0m\n\u001b[0m",
      "\u001b[1;31mTypeError\u001b[0m: human() takes 4 positional arguments but 7 were given"
     ]
    }
   ],
   "source": [
    "def human(f_name, l_name,age, gender, **others):  # (**) the astick sign will help in not to crash the function and save others in the form of dictionaries \n",
    "    build_human = {'first':f_name, 'last name': l_name,\"age\": age, 'gender' : gender}\n",
    "    for keys , values in build_human.items():\n",
    "        print(keys, values)\n",
    "        print(others)\n",
    "\n",
    "human('murtaza','huzaifa',21,'male',{'asdf':12234},{'dsfsv':'acas'},{121213 : 'ascaci'})"
   ]
  },
  {
   "cell_type": "code",
   "execution_count": null,
   "metadata": {},
   "outputs": [],
   "source": []
  }
 ],
 "metadata": {
  "kernelspec": {
   "display_name": "Python 3",
   "language": "python",
   "name": "python3"
  },
  "language_info": {
   "codemirror_mode": {
    "name": "ipython",
    "version": 3
   },
   "file_extension": ".py",
   "mimetype": "text/x-python",
   "name": "python",
   "nbconvert_exporter": "python",
   "pygments_lexer": "ipython3",
   "version": "3.7.3"
  }
 },
 "nbformat": 4,
 "nbformat_minor": 2
}
