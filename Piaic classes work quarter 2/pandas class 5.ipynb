{
 "cells": [
  {
   "cell_type": "code",
   "execution_count": 3,
   "metadata": {},
   "outputs": [],
   "source": [
    "import numpy as np\n",
    "import pandas as pd"
   ]
  },
  {
   "cell_type": "markdown",
   "metadata": {},
   "source": [
    "### function application and mapping"
   ]
  },
  {
   "cell_type": "code",
   "execution_count": 4,
   "metadata": {},
   "outputs": [
    {
     "data": {
      "text/plain": [
       "d    0\n",
       "a    1\n",
       "b    2\n",
       "c    3\n",
       "dtype: int64"
      ]
     },
     "execution_count": 4,
     "metadata": {},
     "output_type": "execute_result"
    }
   ],
   "source": [
    "obj = pd.Series(range(4),index= ['d','a','b','c'])\n",
    "obj"
   ]
  },
  {
   "cell_type": "code",
   "execution_count": 5,
   "metadata": {},
   "outputs": [
    {
     "data": {
      "text/plain": [
       "a    1\n",
       "b    2\n",
       "c    3\n",
       "d    0\n",
       "dtype: int64"
      ]
     },
     "execution_count": 5,
     "metadata": {},
     "output_type": "execute_result"
    }
   ],
   "source": [
    "obj.sort_index()"
   ]
  },
  {
   "cell_type": "code",
   "execution_count": 7,
   "metadata": {},
   "outputs": [
    {
     "data": {
      "text/plain": [
       "<bound method Series.sort_values of d    0\n",
       "a    1\n",
       "b    2\n",
       "c    3\n",
       "dtype: int64>"
      ]
     },
     "execution_count": 7,
     "metadata": {},
     "output_type": "execute_result"
    }
   ],
   "source": [
    "obj.sort_values"
   ]
  },
  {
   "cell_type": "code",
   "execution_count": 13,
   "metadata": {},
   "outputs": [
    {
     "data": {
      "text/html": [
       "<div>\n",
       "<style scoped>\n",
       "    .dataframe tbody tr th:only-of-type {\n",
       "        vertical-align: middle;\n",
       "    }\n",
       "\n",
       "    .dataframe tbody tr th {\n",
       "        vertical-align: top;\n",
       "    }\n",
       "\n",
       "    .dataframe thead th {\n",
       "        text-align: right;\n",
       "    }\n",
       "</style>\n",
       "<table border=\"1\" class=\"dataframe\">\n",
       "  <thead>\n",
       "    <tr style=\"text-align: right;\">\n",
       "      <th></th>\n",
       "      <th>d</th>\n",
       "      <th>a</th>\n",
       "      <th>b</th>\n",
       "      <th>c</th>\n",
       "    </tr>\n",
       "  </thead>\n",
       "  <tbody>\n",
       "    <tr>\n",
       "      <td>three</td>\n",
       "      <td>0</td>\n",
       "      <td>1</td>\n",
       "      <td>2</td>\n",
       "      <td>3</td>\n",
       "    </tr>\n",
       "    <tr>\n",
       "      <td>one</td>\n",
       "      <td>4</td>\n",
       "      <td>5</td>\n",
       "      <td>6</td>\n",
       "      <td>7</td>\n",
       "    </tr>\n",
       "  </tbody>\n",
       "</table>\n",
       "</div>"
      ],
      "text/plain": [
       "       d  a  b  c\n",
       "three  0  1  2  3\n",
       "one    4  5  6  7"
      ]
     },
     "execution_count": 13,
     "metadata": {},
     "output_type": "execute_result"
    }
   ],
   "source": [
    "frame = pd.DataFrame(np.arange(8).reshape((2,4)),\n",
    "                    index= ['three','one'],\n",
    "                    columns = ['d','a','b','c'])\n",
    "frame"
   ]
  },
  {
   "cell_type": "code",
   "execution_count": 15,
   "metadata": {},
   "outputs": [
    {
     "data": {
      "text/plain": [
       "<bound method DataFrame.sort_index of        d  a  b  c\n",
       "three  0  1  2  3\n",
       "one    4  5  6  7>"
      ]
     },
     "execution_count": 15,
     "metadata": {},
     "output_type": "execute_result"
    }
   ],
   "source": [
    "frame.sort_index"
   ]
  },
  {
   "cell_type": "code",
   "execution_count": 17,
   "metadata": {},
   "outputs": [
    {
     "data": {
      "text/plain": [
       "<bound method DataFrame.sort_values of        d  a  b  c\n",
       "three  0  1  2  3\n",
       "one    4  5  6  7>"
      ]
     },
     "execution_count": 17,
     "metadata": {},
     "output_type": "execute_result"
    }
   ],
   "source": [
    "frame.sort_values"
   ]
  },
  {
   "cell_type": "code",
   "execution_count": 18,
   "metadata": {},
   "outputs": [],
   "source": [
    "df = pd.DataFrame([[1.4, np.nan], [7.1, -4.5],\n",
    "[np.nan, np.nan], [0.75, -1.3]],\n",
    "index=['a', 'b', 'c', 'd'],\n",
    "columns=['one', 'two'])\n"
   ]
  },
  {
   "cell_type": "code",
   "execution_count": 20,
   "metadata": {},
   "outputs": [
    {
     "data": {
      "text/html": [
       "<div>\n",
       "<style scoped>\n",
       "    .dataframe tbody tr th:only-of-type {\n",
       "        vertical-align: middle;\n",
       "    }\n",
       "\n",
       "    .dataframe tbody tr th {\n",
       "        vertical-align: top;\n",
       "    }\n",
       "\n",
       "    .dataframe thead th {\n",
       "        text-align: right;\n",
       "    }\n",
       "</style>\n",
       "<table border=\"1\" class=\"dataframe\">\n",
       "  <thead>\n",
       "    <tr style=\"text-align: right;\">\n",
       "      <th></th>\n",
       "      <th>one</th>\n",
       "      <th>two</th>\n",
       "    </tr>\n",
       "  </thead>\n",
       "  <tbody>\n",
       "    <tr>\n",
       "      <td>a</td>\n",
       "      <td>1.40</td>\n",
       "      <td>NaN</td>\n",
       "    </tr>\n",
       "    <tr>\n",
       "      <td>b</td>\n",
       "      <td>7.10</td>\n",
       "      <td>-4.5</td>\n",
       "    </tr>\n",
       "    <tr>\n",
       "      <td>c</td>\n",
       "      <td>NaN</td>\n",
       "      <td>NaN</td>\n",
       "    </tr>\n",
       "    <tr>\n",
       "      <td>d</td>\n",
       "      <td>0.75</td>\n",
       "      <td>-1.3</td>\n",
       "    </tr>\n",
       "  </tbody>\n",
       "</table>\n",
       "</div>"
      ],
      "text/plain": [
       "    one  two\n",
       "a  1.40  NaN\n",
       "b  7.10 -4.5\n",
       "c   NaN  NaN\n",
       "d  0.75 -1.3"
      ]
     },
     "execution_count": 20,
     "metadata": {},
     "output_type": "execute_result"
    }
   ],
   "source": [
    "df"
   ]
  },
  {
   "cell_type": "markdown",
   "metadata": {},
   "source": [
    "##  Correlation and Covariance"
   ]
  },
  {
   "cell_type": "code",
   "execution_count": 21,
   "metadata": {},
   "outputs": [],
   "source": [
    "import pandas_datareader.data as web\n"
   ]
  },
  {
   "cell_type": "code",
   "execution_count": 23,
   "metadata": {},
   "outputs": [],
   "source": [
    "all_data = {ticker: web.get_data_yahoo(ticker)\n",
    " for ticker in ['AAPL', 'IBM', 'MSFT', 'GOOG']}"
   ]
  },
  {
   "cell_type": "code",
   "execution_count": 24,
   "metadata": {},
   "outputs": [
    {
     "data": {
      "text/plain": [
       "{'AAPL':                   High         Low        Open       Close      Volume  \\\n",
       " Date                                                                     \n",
       " 2014-10-20   99.959999   98.220001   98.320000   99.760002  77517300.0   \n",
       " 2014-10-21  103.019997  101.269997  103.019997  102.470001  94623900.0   \n",
       " 2014-10-22  104.110001  102.599998  102.839996  102.989998  68263100.0   \n",
       " 2014-10-23  105.050003  103.629997  104.080002  104.830002  71074700.0   \n",
       " 2014-10-24  105.489998  104.529999  105.180000  105.220001  47053900.0   \n",
       " ...                ...         ...         ...         ...         ...   \n",
       " 2019-10-14  238.130005  234.669998  234.899994  235.869995  24106900.0   \n",
       " 2019-10-15  237.649994  234.880005  236.389999  235.320007  21840000.0   \n",
       " 2019-10-16  235.240005  233.199997  233.369995  234.369995  18475800.0   \n",
       " 2019-10-17  236.149994  233.520004  235.089996  235.279999  16896300.0   \n",
       " 2019-10-18  237.580002  234.289993  234.589996  236.410004  24358400.0   \n",
       " \n",
       "              Adj Close  \n",
       " Date                    \n",
       " 2014-10-20   91.539482  \n",
       " 2014-10-21   94.026176  \n",
       " 2014-10-22   94.503311  \n",
       " 2014-10-23   96.191689  \n",
       " 2014-10-24   96.549545  \n",
       " ...                ...  \n",
       " 2019-10-14  235.869995  \n",
       " 2019-10-15  235.320007  \n",
       " 2019-10-16  234.369995  \n",
       " 2019-10-17  235.279999  \n",
       " 2019-10-18  236.410004  \n",
       " \n",
       " [1259 rows x 6 columns],\n",
       " 'IBM':                   High         Low        Open       Close      Volume  \\\n",
       " Date                                                                     \n",
       " 2014-10-20  170.330002  166.690002  166.850006  169.100006  23416500.0   \n",
       " 2014-10-21  166.679993  161.679993  166.399994  163.229996  20949800.0   \n",
       " 2014-10-22  165.410004  161.100006  162.410004  161.789993  11084800.0   \n",
       " 2014-10-23  162.830002  161.539993  162.119995  162.179993   7599400.0   \n",
       " 2014-10-24  162.440002  161.449997  162.080002  162.080002   6652100.0   \n",
       " ...                ...         ...         ...         ...         ...   \n",
       " 2019-10-14  142.429993  141.320007  142.309998  142.039993   2309500.0   \n",
       " 2019-10-15  143.720001  141.809998  142.539993  143.000000   3025500.0   \n",
       " 2019-10-16  142.949997  141.389999  142.490005  142.110001   5332600.0   \n",
       " 2019-10-17  136.000000  132.910004  135.000000  134.259995  15759800.0   \n",
       " 2019-10-18  134.490005  132.250000  134.220001  134.089996   7177500.0   \n",
       " \n",
       "              Adj Close  \n",
       " Date                    \n",
       " 2014-10-20  136.936264  \n",
       " 2014-10-21  132.182739  \n",
       " 2014-10-22  131.016617  \n",
       " 2014-10-23  131.332458  \n",
       " 2014-10-24  131.251480  \n",
       " ...                ...  \n",
       " 2019-10-14  142.039993  \n",
       " 2019-10-15  143.000000  \n",
       " 2019-10-16  142.110001  \n",
       " 2019-10-17  134.259995  \n",
       " 2019-10-18  134.089996  \n",
       " \n",
       " [1259 rows x 6 columns],\n",
       " 'MSFT':                   High         Low        Open       Close      Volume  \\\n",
       " Date                                                                     \n",
       " 2014-10-20   44.139999   42.810001   43.060001   44.080002  34527900.0   \n",
       " 2014-10-21   44.980000   44.189999   44.360001   44.880001  36433800.0   \n",
       " 2014-10-22   45.070000   44.230000   45.000000   44.380001  33570900.0   \n",
       " 2014-10-23   45.450001   44.529999   44.619999   45.020000  45451900.0   \n",
       " 2014-10-24   46.900002   45.180000   46.830002   46.130001  61076700.0   \n",
       " ...                ...         ...         ...         ...         ...   \n",
       " 2019-10-14  140.289993  139.520004  139.690002  139.550003  13304300.0   \n",
       " 2019-10-15  141.789993  139.809998  140.059998  141.570007  19695700.0   \n",
       " 2019-10-16  140.990005  139.529999  140.789993  140.410004  20751600.0   \n",
       " 2019-10-17  141.419998  139.020004  140.949997  139.690002  21460600.0   \n",
       " 2019-10-18  140.000000  136.559998  139.759995  137.410004  32273500.0   \n",
       " \n",
       "              Adj Close  \n",
       " Date                    \n",
       " 2014-10-20   39.458977  \n",
       " 2014-10-21   40.175110  \n",
       " 2014-10-22   39.727531  \n",
       " 2014-10-23   40.300430  \n",
       " 2014-10-24   41.294075  \n",
       " ...                ...  \n",
       " 2019-10-14  139.550003  \n",
       " 2019-10-15  141.570007  \n",
       " 2019-10-16  140.410004  \n",
       " 2019-10-17  139.690002  \n",
       " 2019-10-18  137.410004  \n",
       " \n",
       " [1259 rows x 6 columns],\n",
       " 'GOOG':                    High          Low         Open        Close     Volume  \\\n",
       " Date                                                                        \n",
       " 2014-10-20   520.331421   506.708832   508.055145   519.413940  2607500.0   \n",
       " 2014-10-21   525.347656   517.688660   523.752014   525.098328  2336200.0   \n",
       " 2014-10-22   538.322021   527.352173   528.439148   531.251465  2919200.0   \n",
       " 2014-10-23   545.721741   534.382874   537.843323   542.490601  2348800.0   \n",
       " 2014-10-24   543.388123   534.322998   542.869568   538.302063  1973100.0   \n",
       " ...                 ...          ...          ...          ...        ...   \n",
       " 2019-10-14  1226.329956  1211.760010  1212.339966  1217.140015   867500.0   \n",
       " 2019-10-15  1247.329956  1220.400024  1220.400024  1243.010010  1381700.0   \n",
       " 2019-10-16  1254.739990  1238.449951  1241.170044  1243.640015  1094600.0   \n",
       " 2019-10-17  1263.324951  1249.939941  1250.930054  1253.069946   952400.0   \n",
       " 2019-10-18  1258.890015  1241.079956  1253.459961  1245.489990  1352800.0   \n",
       " \n",
       "               Adj Close  \n",
       " Date                     \n",
       " 2014-10-20   519.413940  \n",
       " 2014-10-21   525.098328  \n",
       " 2014-10-22   531.251465  \n",
       " 2014-10-23   542.490601  \n",
       " 2014-10-24   538.302063  \n",
       " ...                 ...  \n",
       " 2019-10-14  1217.140015  \n",
       " 2019-10-15  1243.010010  \n",
       " 2019-10-16  1243.640015  \n",
       " 2019-10-17  1253.069946  \n",
       " 2019-10-18  1245.489990  \n",
       " \n",
       " [1259 rows x 6 columns]}"
      ]
     },
     "execution_count": 24,
     "metadata": {},
     "output_type": "execute_result"
    }
   ],
   "source": [
    "all_data"
   ]
  },
  {
   "cell_type": "code",
   "execution_count": 25,
   "metadata": {},
   "outputs": [],
   "source": [
    "price = pd.DataFrame({ticker: data['Adj Close']\n",
    " for ticker, data in all_data.items()})"
   ]
  },
  {
   "cell_type": "code",
   "execution_count": 26,
   "metadata": {},
   "outputs": [
    {
     "data": {
      "text/html": [
       "<div>\n",
       "<style scoped>\n",
       "    .dataframe tbody tr th:only-of-type {\n",
       "        vertical-align: middle;\n",
       "    }\n",
       "\n",
       "    .dataframe tbody tr th {\n",
       "        vertical-align: top;\n",
       "    }\n",
       "\n",
       "    .dataframe thead th {\n",
       "        text-align: right;\n",
       "    }\n",
       "</style>\n",
       "<table border=\"1\" class=\"dataframe\">\n",
       "  <thead>\n",
       "    <tr style=\"text-align: right;\">\n",
       "      <th></th>\n",
       "      <th>AAPL</th>\n",
       "      <th>IBM</th>\n",
       "      <th>MSFT</th>\n",
       "      <th>GOOG</th>\n",
       "    </tr>\n",
       "    <tr>\n",
       "      <th>Date</th>\n",
       "      <th></th>\n",
       "      <th></th>\n",
       "      <th></th>\n",
       "      <th></th>\n",
       "    </tr>\n",
       "  </thead>\n",
       "  <tbody>\n",
       "    <tr>\n",
       "      <td>2014-10-20</td>\n",
       "      <td>91.539482</td>\n",
       "      <td>136.936264</td>\n",
       "      <td>39.458977</td>\n",
       "      <td>519.413940</td>\n",
       "    </tr>\n",
       "    <tr>\n",
       "      <td>2014-10-21</td>\n",
       "      <td>94.026176</td>\n",
       "      <td>132.182739</td>\n",
       "      <td>40.175110</td>\n",
       "      <td>525.098328</td>\n",
       "    </tr>\n",
       "    <tr>\n",
       "      <td>2014-10-22</td>\n",
       "      <td>94.503311</td>\n",
       "      <td>131.016617</td>\n",
       "      <td>39.727531</td>\n",
       "      <td>531.251465</td>\n",
       "    </tr>\n",
       "    <tr>\n",
       "      <td>2014-10-23</td>\n",
       "      <td>96.191689</td>\n",
       "      <td>131.332458</td>\n",
       "      <td>40.300430</td>\n",
       "      <td>542.490601</td>\n",
       "    </tr>\n",
       "    <tr>\n",
       "      <td>2014-10-24</td>\n",
       "      <td>96.549545</td>\n",
       "      <td>131.251480</td>\n",
       "      <td>41.294075</td>\n",
       "      <td>538.302063</td>\n",
       "    </tr>\n",
       "    <tr>\n",
       "      <td>...</td>\n",
       "      <td>...</td>\n",
       "      <td>...</td>\n",
       "      <td>...</td>\n",
       "      <td>...</td>\n",
       "    </tr>\n",
       "    <tr>\n",
       "      <td>2019-10-14</td>\n",
       "      <td>235.869995</td>\n",
       "      <td>142.039993</td>\n",
       "      <td>139.550003</td>\n",
       "      <td>1217.140015</td>\n",
       "    </tr>\n",
       "    <tr>\n",
       "      <td>2019-10-15</td>\n",
       "      <td>235.320007</td>\n",
       "      <td>143.000000</td>\n",
       "      <td>141.570007</td>\n",
       "      <td>1243.010010</td>\n",
       "    </tr>\n",
       "    <tr>\n",
       "      <td>2019-10-16</td>\n",
       "      <td>234.369995</td>\n",
       "      <td>142.110001</td>\n",
       "      <td>140.410004</td>\n",
       "      <td>1243.640015</td>\n",
       "    </tr>\n",
       "    <tr>\n",
       "      <td>2019-10-17</td>\n",
       "      <td>235.279999</td>\n",
       "      <td>134.259995</td>\n",
       "      <td>139.690002</td>\n",
       "      <td>1253.069946</td>\n",
       "    </tr>\n",
       "    <tr>\n",
       "      <td>2019-10-18</td>\n",
       "      <td>236.410004</td>\n",
       "      <td>134.089996</td>\n",
       "      <td>137.410004</td>\n",
       "      <td>1245.489990</td>\n",
       "    </tr>\n",
       "  </tbody>\n",
       "</table>\n",
       "<p>1259 rows × 4 columns</p>\n",
       "</div>"
      ],
      "text/plain": [
       "                  AAPL         IBM        MSFT         GOOG\n",
       "Date                                                       \n",
       "2014-10-20   91.539482  136.936264   39.458977   519.413940\n",
       "2014-10-21   94.026176  132.182739   40.175110   525.098328\n",
       "2014-10-22   94.503311  131.016617   39.727531   531.251465\n",
       "2014-10-23   96.191689  131.332458   40.300430   542.490601\n",
       "2014-10-24   96.549545  131.251480   41.294075   538.302063\n",
       "...                ...         ...         ...          ...\n",
       "2019-10-14  235.869995  142.039993  139.550003  1217.140015\n",
       "2019-10-15  235.320007  143.000000  141.570007  1243.010010\n",
       "2019-10-16  234.369995  142.110001  140.410004  1243.640015\n",
       "2019-10-17  235.279999  134.259995  139.690002  1253.069946\n",
       "2019-10-18  236.410004  134.089996  137.410004  1245.489990\n",
       "\n",
       "[1259 rows x 4 columns]"
      ]
     },
     "execution_count": 26,
     "metadata": {},
     "output_type": "execute_result"
    }
   ],
   "source": [
    "price"
   ]
  }
 ],
 "metadata": {
  "kernelspec": {
   "display_name": "Python 3",
   "language": "python",
   "name": "python3"
  },
  "language_info": {
   "codemirror_mode": {
    "name": "ipython",
    "version": 3
   },
   "file_extension": ".py",
   "mimetype": "text/x-python",
   "name": "python",
   "nbconvert_exporter": "python",
   "pygments_lexer": "ipython3",
   "version": "3.7.4"
  }
 },
 "nbformat": 4,
 "nbformat_minor": 2
}
